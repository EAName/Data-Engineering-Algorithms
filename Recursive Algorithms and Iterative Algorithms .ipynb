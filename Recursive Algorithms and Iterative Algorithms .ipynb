{
 "cells": [
  {
   "cell_type": "code",
   "execution_count": 1,
   "id": "2380380b",
   "metadata": {},
   "outputs": [],
   "source": [
    "# Import libraries\n",
    "\n",
    "import numpy as np\n",
    "import pandas as pd\n",
    "import random\n",
    "import matplotlib.pyplot as plt\n",
    "import time\n",
    "import math\n",
    "from decimal import Decimal\n",
    "import inspect\n",
    "import sys"
   ]
  },
  {
   "cell_type": "markdown",
   "id": "af32874c",
   "metadata": {},
   "source": [
    "### 1) Set up an array of ten random numbers between 100 and 500 (just one array with 10 numbers)."
   ]
  },
  {
   "cell_type": "code",
   "execution_count": 2,
   "id": "720e04d9",
   "metadata": {},
   "outputs": [],
   "source": [
    "#Create an array with ten numbers ranging in value from 100-500\n",
    "random.seed(123)\n",
    "\n",
    "factorial = random.sample(range(100, 501), 10)\n",
    "\n",
    "factorial.sort()"
   ]
  },
  {
   "cell_type": "code",
   "execution_count": 3,
   "id": "566a5550",
   "metadata": {},
   "outputs": [],
   "source": [
    "#base code for factorial recursion\n",
    "#Algorithm calls itself and requires memory to be allocated to at least store the value\n",
    "#keeps calling function\n",
    "#stores all hanging function calls\n",
    "#recursive algorithms are memory intensive\n",
    "\n",
    "def factorial_rec(x):\n",
    "    if x == 1:\n",
    "        return 1\n",
    "    else:\n",
    "        return x * factorial_rec(x-1)\n",
    "    "
   ]
  },
  {
   "cell_type": "code",
   "execution_count": 4,
   "id": "1e905ff2",
   "metadata": {},
   "outputs": [],
   "source": [
    "#Factorial using loop\n",
    "#Algorithm only needs to store in memory two variables\n",
    "\n",
    "def for_loop_fact(x):\n",
    "    store = 1\n",
    "    for x in range(1, x + 1):\n",
    "        store = store * x\n",
    "    return store\n"
   ]
  },
  {
   "cell_type": "markdown",
   "id": "edba6ac9",
   "metadata": {},
   "source": [
    "### 2) Calculate the factorial of each of the numbers using a simple FOR loop.  Please capture the start/end times and store the results in an array, or linked list, or dictionary. "
   ]
  },
  {
   "cell_type": "code",
   "execution_count": 5,
   "id": "035e2a9d",
   "metadata": {},
   "outputs": [],
   "source": [
    "for_loop_time = []\n",
    "\n",
    "for i in range(len(factorial)):\n",
    "    initiate_count = time.perf_counter()\n",
    "    for_loop_fact(factorial[i])\n",
    "    stop_count = time.perf_counter()\n",
    "    for_loop_time.append((stop_count - initiate_count) * 1000)\n",
    "    \n"
   ]
  },
  {
   "cell_type": "markdown",
   "id": "2474e976",
   "metadata": {},
   "source": [
    "### 3) Calculate the factorial of each of the numbers using recursion.  Please capture the start/end times and store the results in an array, or linked list, or dictionary."
   ]
  },
  {
   "cell_type": "code",
   "execution_count": 6,
   "id": "8d27d2ea",
   "metadata": {},
   "outputs": [],
   "source": [
    "recursion_time = []\n",
    "\n",
    "for i in range(len(factorial)):\n",
    "    initiate_count = time.perf_counter()\n",
    "    factorial_rec(factorial[i])\n",
    "    stop_count = time.perf_counter()\n",
    "    recursion_time.append((stop_count - initiate_count) * 1000)"
   ]
  },
  {
   "cell_type": "markdown",
   "id": "21c495e9",
   "metadata": {},
   "source": [
    "### 4) Organize the results of the study into a table showing the number, it's factorial, the time to calculate the factorial using recursion, the time to calculate factorial using FOR loop, and the difference between times."
   ]
  },
  {
   "cell_type": "code",
   "execution_count": 7,
   "id": "95363a44",
   "metadata": {},
   "outputs": [],
   "source": [
    "#put factorials into a list\n",
    "N = []\n",
    "\n",
    "for i in range(len(factorial)):\n",
    "    N.append(\"{:.5e}\".format(Decimal(for_loop_fact(factorial[i]))))"
   ]
  },
  {
   "cell_type": "code",
   "execution_count": 8,
   "id": "c63baaf3",
   "metadata": {},
   "outputs": [],
   "source": [
    "execution_compare = np.array(recursion_time) - np.array(for_loop_time)"
   ]
  },
  {
   "cell_type": "code",
   "execution_count": 9,
   "id": "1eb36521",
   "metadata": {},
   "outputs": [],
   "source": [
    "table = {\"Number\": factorial,\"Factorial\": N, \"Loop Time\": for_loop_time, \"Recursion Time\": recursion_time, \n",
    "          \"Time Difference\": execution_compare}\n",
    "\n"
   ]
  },
  {
   "cell_type": "code",
   "execution_count": 10,
   "id": "a69d4957",
   "metadata": {},
   "outputs": [],
   "source": [
    "results = pd.DataFrame(table)"
   ]
  },
  {
   "cell_type": "code",
   "execution_count": 11,
   "id": "39199034",
   "metadata": {},
   "outputs": [
    {
     "data": {
      "text/html": [
       "<style type=\"text/css\">\n",
       "</style>\n",
       "<table id=\"T_124ef_\">\n",
       "  <caption>Recursive Function & Iterative Function Execution Times</caption>\n",
       "  <thead>\n",
       "    <tr>\n",
       "      <th class=\"blank level0\" >&nbsp;</th>\n",
       "      <th class=\"col_heading level0 col0\" >Number</th>\n",
       "      <th class=\"col_heading level0 col1\" >Factorial</th>\n",
       "      <th class=\"col_heading level0 col2\" >Loop Time</th>\n",
       "      <th class=\"col_heading level0 col3\" >Recursion Time</th>\n",
       "      <th class=\"col_heading level0 col4\" >Time Difference</th>\n",
       "    </tr>\n",
       "  </thead>\n",
       "  <tbody>\n",
       "    <tr>\n",
       "      <th id=\"T_124ef_level0_row0\" class=\"row_heading level0 row0\" >0</th>\n",
       "      <td id=\"T_124ef_row0_col0\" class=\"data row0 col0\" >119</td>\n",
       "      <td id=\"T_124ef_row0_col1\" class=\"data row0 col1\" >5.57459e+196</td>\n",
       "      <td id=\"T_124ef_row0_col2\" class=\"data row0 col2\" >0.011500</td>\n",
       "      <td id=\"T_124ef_row0_col3\" class=\"data row0 col3\" >0.029417</td>\n",
       "      <td id=\"T_124ef_row0_col4\" class=\"data row0 col4\" >0.017917</td>\n",
       "    </tr>\n",
       "    <tr>\n",
       "      <th id=\"T_124ef_level0_row1\" class=\"row_heading level0 row1\" >1</th>\n",
       "      <td id=\"T_124ef_row1_col0\" class=\"data row1 col0\" >126</td>\n",
       "      <td id=\"T_124ef_row1_col1\" class=\"data row1 col1\" >2.37217e+211</td>\n",
       "      <td id=\"T_124ef_row1_col2\" class=\"data row1 col2\" >0.011000</td>\n",
       "      <td id=\"T_124ef_row1_col3\" class=\"data row1 col3\" >0.019708</td>\n",
       "      <td id=\"T_124ef_row1_col4\" class=\"data row1 col4\" >0.008708</td>\n",
       "    </tr>\n",
       "    <tr>\n",
       "      <th id=\"T_124ef_level0_row2\" class=\"row_heading level0 row2\" >2</th>\n",
       "      <td id=\"T_124ef_row2_col0\" class=\"data row2 col0\" >144</td>\n",
       "      <td id=\"T_124ef_row2_col1\" class=\"data row2 col1\" >5.55029e+249</td>\n",
       "      <td id=\"T_124ef_row2_col2\" class=\"data row2 col2\" >0.012333</td>\n",
       "      <td id=\"T_124ef_row2_col3\" class=\"data row2 col3\" >0.025250</td>\n",
       "      <td id=\"T_124ef_row2_col4\" class=\"data row2 col4\" >0.012917</td>\n",
       "    </tr>\n",
       "    <tr>\n",
       "      <th id=\"T_124ef_level0_row3\" class=\"row_heading level0 row3\" >3</th>\n",
       "      <td id=\"T_124ef_row3_col0\" class=\"data row3 col0\" >155</td>\n",
       "      <td id=\"T_124ef_row3_col1\" class=\"data row3 col1\" >4.78914e+273</td>\n",
       "      <td id=\"T_124ef_row3_col2\" class=\"data row3 col2\" >0.013458</td>\n",
       "      <td id=\"T_124ef_row3_col3\" class=\"data row3 col3\" >0.026334</td>\n",
       "      <td id=\"T_124ef_row3_col4\" class=\"data row3 col4\" >0.012876</td>\n",
       "    </tr>\n",
       "    <tr>\n",
       "      <th id=\"T_124ef_level0_row4\" class=\"row_heading level0 row4\" >4</th>\n",
       "      <td id=\"T_124ef_row4_col0\" class=\"data row4 col0\" >236</td>\n",
       "      <td id=\"T_124ef_row4_col1\" class=\"data row4 col1\" >1.25729e+459</td>\n",
       "      <td id=\"T_124ef_row4_col2\" class=\"data row4 col2\" >0.023459</td>\n",
       "      <td id=\"T_124ef_row4_col3\" class=\"data row4 col3\" >0.062250</td>\n",
       "      <td id=\"T_124ef_row4_col4\" class=\"data row4 col4\" >0.038791</td>\n",
       "    </tr>\n",
       "    <tr>\n",
       "      <th id=\"T_124ef_level0_row5\" class=\"row_heading level0 row5\" >5</th>\n",
       "      <td id=\"T_124ef_row5_col0\" class=\"data row5 col0\" >237</td>\n",
       "      <td id=\"T_124ef_row5_col1\" class=\"data row5 col1\" >2.97977e+461</td>\n",
       "      <td id=\"T_124ef_row5_col2\" class=\"data row5 col2\" >0.022792</td>\n",
       "      <td id=\"T_124ef_row5_col3\" class=\"data row5 col3\" >0.040917</td>\n",
       "      <td id=\"T_124ef_row5_col4\" class=\"data row5 col4\" >0.018125</td>\n",
       "    </tr>\n",
       "    <tr>\n",
       "      <th id=\"T_124ef_level0_row6\" class=\"row_heading level0 row6\" >6</th>\n",
       "      <td id=\"T_124ef_row6_col0\" class=\"data row6 col0\" >294</td>\n",
       "      <td id=\"T_124ef_row6_col1\" class=\"data row6 col1\" >4.41493e+599</td>\n",
       "      <td id=\"T_124ef_row6_col2\" class=\"data row6 col2\" >0.028584</td>\n",
       "      <td id=\"T_124ef_row6_col3\" class=\"data row6 col3\" >0.069875</td>\n",
       "      <td id=\"T_124ef_row6_col4\" class=\"data row6 col4\" >0.041291</td>\n",
       "    </tr>\n",
       "    <tr>\n",
       "      <th id=\"T_124ef_level0_row7\" class=\"row_heading level0 row7\" >7</th>\n",
       "      <td id=\"T_124ef_row7_col0\" class=\"data row7 col0\" >308</td>\n",
       "      <td id=\"T_124ef_row7_col1\" class=\"data row7 col1\" >2.26153e+634</td>\n",
       "      <td id=\"T_124ef_row7_col2\" class=\"data row7 col2\" >0.030166</td>\n",
       "      <td id=\"T_124ef_row7_col3\" class=\"data row7 col3\" >0.060417</td>\n",
       "      <td id=\"T_124ef_row7_col4\" class=\"data row7 col4\" >0.030251</td>\n",
       "    </tr>\n",
       "    <tr>\n",
       "      <th id=\"T_124ef_level0_row8\" class=\"row_heading level0 row8\" >8</th>\n",
       "      <td id=\"T_124ef_row8_col0\" class=\"data row8 col0\" >374</td>\n",
       "      <td id=\"T_124ef_row8_col1\" class=\"data row8 col1\" >3.26186e+801</td>\n",
       "      <td id=\"T_124ef_row8_col2\" class=\"data row8 col2\" >0.041750</td>\n",
       "      <td id=\"T_124ef_row8_col3\" class=\"data row8 col3\" >0.162791</td>\n",
       "      <td id=\"T_124ef_row8_col4\" class=\"data row8 col4\" >0.121041</td>\n",
       "    </tr>\n",
       "    <tr>\n",
       "      <th id=\"T_124ef_level0_row9\" class=\"row_heading level0 row9\" >9</th>\n",
       "      <td id=\"T_124ef_row9_col0\" class=\"data row9 col0\" >493</td>\n",
       "      <td id=\"T_124ef_row9_col1\" class=\"data row9 col1\" >1.62907e+1115</td>\n",
       "      <td id=\"T_124ef_row9_col2\" class=\"data row9 col2\" >0.070958</td>\n",
       "      <td id=\"T_124ef_row9_col3\" class=\"data row9 col3\" >0.150166</td>\n",
       "      <td id=\"T_124ef_row9_col4\" class=\"data row9 col4\" >0.079208</td>\n",
       "    </tr>\n",
       "  </tbody>\n",
       "</table>\n"
      ],
      "text/plain": [
       "<pandas.io.formats.style.Styler at 0x7fe6202baac0>"
      ]
     },
     "execution_count": 11,
     "metadata": {},
     "output_type": "execute_result"
    }
   ],
   "source": [
    "results.style.set_caption('Recursive Function & Iterative Function Execution Times')\n",
    "\n"
   ]
  },
  {
   "cell_type": "markdown",
   "id": "1b4c5e7d",
   "metadata": {},
   "source": [
    "### 5) Use python matplotlib or seaborn to generate a graph that has number on the horizontal axis and with execution time in milliseconds on the vertical axis. The plot should show execution times of recursion and the loop."
   ]
  },
  {
   "cell_type": "code",
   "execution_count": 12,
   "id": "531e38b9",
   "metadata": {},
   "outputs": [
    {
     "data": {
      "image/png": "[encoded data removed]",
      "text/plain": [
       "<Figure size 432x288 with 1 Axes>"
      ]
     },
     "metadata": {
      "needs_background": "light"
     },
     "output_type": "display_data"
    }
   ],
   "source": [
    "# plot\n",
    "fig, ax = plt.subplots()\n",
    "ax.plot(factorial, for_loop_time, linewidth=2.0,label='Loop')\n",
    "ax.plot(factorial,recursion_time, linewidth=2.0,label='Recursion')\n",
    "ax.set_xlabel('Input N')\n",
    "ax.set_ylabel('Execution Time (ms)')\n",
    "plt.legend()\n",
    "plt.show()\n"
   ]
  },
  {
   "cell_type": "markdown",
   "id": "8283145c",
   "metadata": {},
   "source": [
    "### EXECUTIVE SUMMARY"
   ]
  },
  {
   "cell_type": "markdown",
   "id": "e1dec6ee",
   "metadata": {},
   "source": [
    "INTRODUCTION"
   ]
  },
  {
   "cell_type": "markdown",
   "id": "76e5bccf",
   "metadata": {},
   "source": [
    "This report analyzed the execution time of a recursive algorithm by comparing it to the execution time of an iterative algorithm. One random array was generated composed of the following integers: n = 119, 126, 144, 155, 236, 237, 294, 308, 374, 493. The recursive algorithm and the iterative algorithm were executed to process the integer values in the array from smallest to largest to measure execution times for recursion and iteration. In addition, performance efficiency and the optimal implementation for load increase. "
   ]
  },
  {
   "cell_type": "markdown",
   "id": "ed09015c",
   "metadata": {},
   "source": [
    "RECURSIVE ALGORITHM"
   ]
  },
  {
   "cell_type": "markdown",
   "id": "e2eca6fb",
   "metadata": {},
   "source": [
    "Recursive algorithms solve problems by calling themselves. A recursive algorithm will have a base case and a recursive case. The base case establishes the parameters which permit the algorithm to stop executing the function.  This form of an algorithm breaks down a problem into smaller components in order to solve the problem. "
   ]
  },
  {
   "cell_type": "markdown",
   "id": "f1e61802",
   "metadata": {},
   "source": [
    "INDUSTRY APPLICATION"
   ]
  },
  {
   "cell_type": "markdown",
   "id": "136f03c9",
   "metadata": {},
   "source": [
    "Recursive algorithms can be implemented on different data structures to accomplish a given objective. A recursive algorithm can be applied to linked lists containing numbers to determine their sum value. If searching for a unique string in a list, then this type of algorithm can be implemented to verify if the unique value is contained in the list. Recursive algorithms can also be used to determine the sorted values of a list and whether it is ascending or descending. The primary concern is performance efficiency and scalability for storage and retrieval. Consideration should be given to the type of system. A recursive algorithm executed in an online analytic processing system would be able to better handle the load for aggregating or summarizing values versus performing the same operation in an online transaction processing system because of execution time. "
   ]
  },
  {
   "cell_type": "markdown",
   "id": "63d8fb5c",
   "metadata": {},
   "source": [
    "METHODOLOGY"
   ]
  },
  {
   "cell_type": "markdown",
   "id": "8c529a81",
   "metadata": {},
   "source": [
    "A random array was generated using numpy from the pandas package in python. A list was created to store the array values of 119, 126, 144, 155, 236, 237, 294, 308, 374, 493. For each factorial value in the array, the execution time of the recursive algorithm was appended to a list created to store the values for execution time. The iterative algorithm was used only for its comparative value and will not be discussed in further detail. "
   ]
  },
  {
   "cell_type": "markdown",
   "id": "4007e7ec",
   "metadata": {},
   "source": [
    "ANALYSIS & RESULTS"
   ]
  },
  {
   "cell_type": "markdown",
   "id": "d7f3916a",
   "metadata": {},
   "source": [
    "The results displayed on table 1 show the execution time for the recursive algorithm is significantly slower than the execution time for the iterative algorithm. For an integer value of n = 119, the recursive algorithm speed is 0.029417 milliseconds and the execution speed for iterative algorithm is 0.011500 milliseconds. For an integer value of n = 374, the recursive algorithm execution speed is 0.162791 milliseconds and the execution speed for iterative algorithm is 0.041750 milliseconds. The graphic figure for recursive algorithm displays the increasing execution time as the integer value increases. This represents the increasing number of operations needed to break down the problem until it reaches its base state. At an integer value of n = 493, the iterative algorithm is twice  as fast as the speed of the recursive algorithm: the execution time for the recursive algorithm is 0.150166 seconds and the execution time for the iterative algorithm is 0.070958 seconds."
   ]
  },
  {
   "cell_type": "markdown",
   "id": "c488663b",
   "metadata": {},
   "source": [
    "DISCUSSION OF BIG O NOTATION"
   ]
  },
  {
   "cell_type": "markdown",
   "id": "46c7df7c",
   "metadata": {},
   "source": [
    "Recursive algorithms establish the end of an execution process as the condition required to be satisfied. Since recursive algorithms continue executing until the defined condition is satisfied, Big O Notation would be defined as the number of complex operations occuring until the established condition has been met. This could be abstracted as the number of operations occurring in the tree. The value of this set of operations would be aggregated as the value from the root step to the base step multiplied by the number of steps between root and base. This is O(N!)   which is (n * (n-1)!)."
   ]
  },
  {
   "cell_type": "markdown",
   "id": "44129c0c",
   "metadata": {},
   "source": [
    "CONCLUSION"
   ]
  },
  {
   "cell_type": "markdown",
   "id": "e73086d7",
   "metadata": {},
   "source": [
    "The execution speed of the recursive algorithm is read in Big O notation given as O(N!). As the integer value increases, the amount of time needed for the stack call to execute increases. With storage and retrieval being resources which must be optimized, data systems and their architecture are designed to implement applications with focus on storage and retrieval, given computational processing power is not a limiting factor. The execution times for the iterative algorithm was lower than the execution times of the recursive algorithm."
   ]
  }
 ],
 "metadata": {
  "kernelspec": {
   "display_name": "Python 3 (ipykernel)",
   "language": "python",
   "name": "python3"
  },
  "language_info": {
   "codemirror_mode": {
    "name": "ipython",
    "version": 3
   },
   "file_extension": ".py",
   "mimetype": "text/x-python",
   "name": "python",
   "nbconvert_exporter": "python",
   "pygments_lexer": "ipython3",
   "version": "3.9.7"
  }
 },
 "nbformat": 4,
 "nbformat_minor": 5
}
