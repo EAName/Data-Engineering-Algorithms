{
 "cells": [
  {
   "cell_type": "code",
   "execution_count": 1,
   "id": "081b7b38",
   "metadata": {},
   "outputs": [],
   "source": [
    "# Import libraries\n",
    "\n",
    "import numpy as np\n",
    "import pandas as pd\n",
    "import matplotlib.pyplot as plt\n",
    "import time\n",
    "import datetime\n",
    "import string\n",
    "import random"
   ]
  },
  {
   "cell_type": "code",
   "execution_count": 2,
   "id": "c0a6324f",
   "metadata": {},
   "outputs": [],
   "source": [
    "def linear_search(list, item):\n",
    "    low = 0\n",
    "    high = len(list) - 1\n",
    "    \n",
    "    while low <= high:\n",
    "        guess = list[low]\n",
    "        if guess == item:\n",
    "            return low\n",
    "        low = low + 1\n",
    "        \n",
    "    return None"
   ]
  },
  {
   "cell_type": "code",
   "execution_count": 3,
   "id": "cb225f57",
   "metadata": {},
   "outputs": [],
   "source": [
    "def binary_search(list, item):\n",
    "  # low and high keep track of which part of the list you'll search in.\n",
    "  low = 0\n",
    "  high = len(list) - 1\n",
    "\n",
    "  # While you haven't narrowed it down to one element ...\n",
    "  while low <= high:\n",
    "    # ... check the middle element\n",
    "    mid = (low + high) // 2\n",
    "    guess = list[mid]\n",
    "    # Found the item.\n",
    "    if guess == item:\n",
    "      return mid\n",
    "    # The guess was too high.\n",
    "    if guess > item:\n",
    "      high = mid - 1\n",
    "    # The guess was too low.\n",
    "    else:\n",
    "      low = mid + 1\n",
    "\n",
    "  # Item doesn't exist\n",
    "  return None"
   ]
  },
  {
   "cell_type": "code",
   "execution_count": 4,
   "id": "087d2bd1",
   "metadata": {},
   "outputs": [],
   "source": [
    "#Base Code from book\n",
    "def quick_sort(array):\n",
    "  if len(array) < 2:\n",
    "    # base case, arrays with 0 or 1 element are already \"sorted\"\n",
    "    return array\n",
    "  else:\n",
    "    # recursive case\n",
    "    pivot = array[0]\n",
    "    # sub-array of all the elements less than the pivot\n",
    "    less = [i for i in array[1:] if i <= pivot]\n",
    "    # sub-array of all the elements greater than the pivot\n",
    "    greater = [i for i in array[1:] if i > pivot]\n",
    "    return quick_sort(less) + [pivot] + quick_sort(greater)"
   ]
  },
  {
   "cell_type": "markdown",
   "id": "ae019271",
   "metadata": {},
   "source": [
    "### 1) Create the following three datasets.\n",
    "Create a list of 100,000 names (randomly pick 10 characters e.g. abcdefghij, any order is fine, just make sure there are no duplicates names) and store those names in an unsorted list.\n",
    "Now store the above names in a set (https://docs.python.org/3.7/library/stdtypes.html ). \n",
    "Make a separate copy of the list and sort it using any sorting algorithm that you have learned so far and justify why are you using it. Capture the time it takes to sort the list.\n",
    "\n",
    "At this point you should have three collections:  \n",
    "(1) an unsorted list of names, \n",
    "(2) a set of those same names, and \n",
    "(3) a sorted list of the same names.  \n",
    "\n",
    "Something like this: \n",
    "names_unsrt = ['B', 'X', 'T'], \n",
    "names_set = {'B', 'X', 'T'}, and \n",
    "names_srt = ['B', 'T', 'X'] "
   ]
  },
  {
   "cell_type": "code",
   "execution_count": 5,
   "id": "e4d4f8c7",
   "metadata": {},
   "outputs": [],
   "source": [
    "#Function to generate names\n",
    "def generate (length):\n",
    "    names_list = []\n",
    "    for j in range(length):       \n",
    "        x = ''\n",
    "        \n",
    "        for i in range(10):\n",
    "            randomLetter = random.choice(string.ascii_letters)\n",
    "            x = randomLetter + x\n",
    "            string_lower = x.lower()\n",
    "            \n",
    "        names_list.append(string_lower)\n",
    "        \n",
    "    return names_list  "
   ]
  },
  {
   "cell_type": "code",
   "execution_count": 6,
   "id": "34623c6b",
   "metadata": {},
   "outputs": [],
   "source": [
    "#unsorted list of names\n",
    "names_unsorted = generate(100000)"
   ]
  },
  {
   "cell_type": "code",
   "execution_count": 7,
   "id": "31a07ead",
   "metadata": {},
   "outputs": [],
   "source": [
    "#names set to apply hashing function to create hash values\n",
    "names_set = set(names_unsorted)"
   ]
  },
  {
   "cell_type": "code",
   "execution_count": 8,
   "id": "0c4c3fa5",
   "metadata": {},
   "outputs": [],
   "source": [
    "#Quick Sort Algorithm\n",
    "\n",
    "quickSort = []\n",
    "\n",
    "start_time = time.time()\n",
    "names_sorted = quick_sort(names_unsorted)\n",
    "end_time = time.time()\n",
    "qs_names = (end_time - start_time)\n",
    "quickSort.append(qs_names)"
   ]
  },
  {
   "cell_type": "code",
   "execution_count": 9,
   "id": "98eed8cb",
   "metadata": {},
   "outputs": [
    {
     "data": {
      "text/html": [
       "<div>\n",
       "<style scoped>\n",
       "    .dataframe tbody tr th:only-of-type {\n",
       "        vertical-align: middle;\n",
       "    }\n",
       "\n",
       "    .dataframe tbody tr th {\n",
       "        vertical-align: top;\n",
       "    }\n",
       "\n",
       "    .dataframe thead th {\n",
       "        text-align: right;\n",
       "    }\n",
       "</style>\n",
       "<table border=\"1\" class=\"dataframe\">\n",
       "  <thead>\n",
       "    <tr style=\"text-align: right;\">\n",
       "      <th></th>\n",
       "      <th>Quick Sort</th>\n",
       "    </tr>\n",
       "  </thead>\n",
       "  <tbody>\n",
       "    <tr>\n",
       "      <th>0</th>\n",
       "      <td>0.260534</td>\n",
       "    </tr>\n",
       "  </tbody>\n",
       "</table>\n",
       "</div>"
      ],
      "text/plain": [
       "   Quick Sort\n",
       "0    0.260534"
      ]
     },
     "execution_count": 9,
     "metadata": {},
     "output_type": "execute_result"
    }
   ],
   "source": [
    "#create dataframe for quicksort time\n",
    "qs = {'Quick Sort' : quickSort}\n",
    "quicksort_df = pd.DataFrame(data=qs)\n",
    "quicksort_df"
   ]
  },
  {
   "cell_type": "markdown",
   "id": "bf2ae1f9",
   "metadata": {},
   "source": [
    "### 2) Pick the names from the unsorted array that are at 10,000th, 30,000th, 50,000th, 70,000th, 90,000th, and 100,000th positions, and store them in a temporary array somewhere for later use. "
   ]
  },
  {
   "cell_type": "code",
   "execution_count": 10,
   "id": "8107384d",
   "metadata": {},
   "outputs": [],
   "source": [
    "positions = [names_unsorted[9999], names_unsorted[29999], names_unsorted[49999], names_unsorted[69999], names_unsorted[89999], names_unsorted[99999]] "
   ]
  },
  {
   "cell_type": "code",
   "execution_count": 11,
   "id": "96ba9798",
   "metadata": {},
   "outputs": [
    {
     "data": {
      "text/plain": [
       "['lpgjbyazlr',\n",
       " 'btnaqvknri',\n",
       " 'yhnmgpwuvz',\n",
       " 'xlntqqppln',\n",
       " 'jyfrfbzpaw',\n",
       " 'libizehcrv']"
      ]
     },
     "execution_count": 11,
     "metadata": {},
     "output_type": "execute_result"
    }
   ],
   "source": [
    "positions"
   ]
  },
  {
   "cell_type": "markdown",
   "id": "444f1e0d",
   "metadata": {},
   "source": [
    "### 3) Now search for these six names in each of the collections.  Use linear search for the unsorted list, binary search for the sorted list, and use the set.remove() (or the in keyword) builtin for the set.  Capture the time it takes using all three algorithms."
   ]
  },
  {
   "cell_type": "code",
   "execution_count": 12,
   "id": "82eba358",
   "metadata": {},
   "outputs": [],
   "source": [
    "#big o(n)\n",
    "\n",
    "ls_times = []\n",
    "\n",
    "for i in range(1):\n",
    "    linear_time = 0\n",
    "    for j in range(len(positions)):\n",
    "        start = time.time()\n",
    "        linear_search(names_unsorted, positions[j])\n",
    "        end = time.time()\n",
    "        linear_time = ((end - start) * 1000)\n",
    "        ls_times.append(linear_time)\n",
    "    \n"
   ]
  },
  {
   "cell_type": "code",
   "execution_count": 13,
   "id": "3b0420ea",
   "metadata": {},
   "outputs": [],
   "source": [
    "# o(log n)\n",
    "\n",
    "bs_times = []\n",
    "\n",
    "for i in range(1):\n",
    "    binary_time = 0\n",
    "    for j in range(len(positions)):\n",
    "        start = time.time()\n",
    "        binary_search(names_sorted, positions[j])\n",
    "        end = time.time()\n",
    "        binary_time = ((end - start) * 1000)\n",
    "        bs_times.append(binary_time)\n",
    "\n"
   ]
  },
  {
   "cell_type": "code",
   "execution_count": 14,
   "id": "76d15924",
   "metadata": {},
   "outputs": [],
   "source": [
    "#constant time looks up Big O(1)\n",
    "set_search_times = []\n",
    "\n",
    "for i in range(1):\n",
    "    set_search_time = 0\n",
    "    for j in range(len(positions)):\n",
    "        start = time.time()\n",
    "        positions[j] in names_set\n",
    "        end = time.time()\n",
    "        set_search_time = ((end - start) * 1000)\n",
    "        set_search_times.append(set_search_time) "
   ]
  },
  {
   "cell_type": "code",
   "execution_count": 15,
   "id": "3d88cebd",
   "metadata": {},
   "outputs": [
    {
     "data": {
      "text/plain": [
       "False"
      ]
     },
     "execution_count": 15,
     "metadata": {},
     "output_type": "execute_result"
    }
   ],
   "source": [
    "#how to check if something is in the set\n",
    "#cannot select\n",
    "#no sorting function\n",
    "#can only check if something is in there or not\n",
    "\n",
    "'xyz' in names_set"
   ]
  },
  {
   "cell_type": "code",
   "execution_count": 16,
   "id": "450f3843",
   "metadata": {},
   "outputs": [],
   "source": [
    "#removing item from set\n",
    "#names_set.remove('wgpthsuvkl')"
   ]
  },
  {
   "cell_type": "code",
   "execution_count": 17,
   "id": "33d90e63",
   "metadata": {},
   "outputs": [
    {
     "data": {
      "text/plain": [
       "100000"
      ]
     },
     "execution_count": 17,
     "metadata": {},
     "output_type": "execute_result"
    }
   ],
   "source": [
    "#verifying item removed\n",
    "len(names_set)"
   ]
  },
  {
   "cell_type": "code",
   "execution_count": 18,
   "id": "189be61f",
   "metadata": {},
   "outputs": [
    {
     "data": {
      "text/html": [
       "<div>\n",
       "<style scoped>\n",
       "    .dataframe tbody tr th:only-of-type {\n",
       "        vertical-align: middle;\n",
       "    }\n",
       "\n",
       "    .dataframe tbody tr th {\n",
       "        vertical-align: top;\n",
       "    }\n",
       "\n",
       "    .dataframe thead th {\n",
       "        text-align: right;\n",
       "    }\n",
       "</style>\n",
       "<table border=\"1\" class=\"dataframe\">\n",
       "  <thead>\n",
       "    <tr style=\"text-align: right;\">\n",
       "      <th></th>\n",
       "      <th>Name</th>\n",
       "      <th>Binary Search</th>\n",
       "      <th>Linear Search</th>\n",
       "      <th>Hashed Search</th>\n",
       "    </tr>\n",
       "  </thead>\n",
       "  <tbody>\n",
       "    <tr>\n",
       "      <th>0</th>\n",
       "      <td>lpgjbyazlr</td>\n",
       "      <td>0.009775</td>\n",
       "      <td>0.856876</td>\n",
       "      <td>0.000000</td>\n",
       "    </tr>\n",
       "    <tr>\n",
       "      <th>1</th>\n",
       "      <td>btnaqvknri</td>\n",
       "      <td>0.006914</td>\n",
       "      <td>2.665043</td>\n",
       "      <td>0.001192</td>\n",
       "    </tr>\n",
       "    <tr>\n",
       "      <th>2</th>\n",
       "      <td>yhnmgpwuvz</td>\n",
       "      <td>0.006199</td>\n",
       "      <td>4.518032</td>\n",
       "      <td>0.000954</td>\n",
       "    </tr>\n",
       "    <tr>\n",
       "      <th>3</th>\n",
       "      <td>xlntqqppln</td>\n",
       "      <td>0.004053</td>\n",
       "      <td>5.944014</td>\n",
       "      <td>0.000000</td>\n",
       "    </tr>\n",
       "    <tr>\n",
       "      <th>4</th>\n",
       "      <td>jyfrfbzpaw</td>\n",
       "      <td>0.004768</td>\n",
       "      <td>7.602215</td>\n",
       "      <td>0.000000</td>\n",
       "    </tr>\n",
       "    <tr>\n",
       "      <th>5</th>\n",
       "      <td>libizehcrv</td>\n",
       "      <td>0.005007</td>\n",
       "      <td>8.317947</td>\n",
       "      <td>0.001192</td>\n",
       "    </tr>\n",
       "  </tbody>\n",
       "</table>\n",
       "</div>"
      ],
      "text/plain": [
       "         Name  Binary Search  Linear Search  Hashed Search\n",
       "0  lpgjbyazlr       0.009775       0.856876       0.000000\n",
       "1  btnaqvknri       0.006914       2.665043       0.001192\n",
       "2  yhnmgpwuvz       0.006199       4.518032       0.000954\n",
       "3  xlntqqppln       0.004053       5.944014       0.000000\n",
       "4  jyfrfbzpaw       0.004768       7.602215       0.000000\n",
       "5  libizehcrv       0.005007       8.317947       0.001192"
      ]
     },
     "execution_count": 18,
     "metadata": {},
     "output_type": "execute_result"
    }
   ],
   "source": [
    "sort_times = {'Name':positions,\n",
    "    'Binary Search' : bs_times,\n",
    "           'Linear Search' : ls_times,\n",
    "           #'merge sort': mergesort_times,\n",
    "           'Hashed Search' : set_search_times}\n",
    "sort_times = pd.DataFrame(data=sort_times)\n",
    "sort_times\n"
   ]
  },
  {
   "cell_type": "code",
   "execution_count": 24,
   "id": "d4066519",
   "metadata": {},
   "outputs": [
    {
     "data": {
      "text/plain": [
       "Text(0.5, 1.0, 'Time for Binary Search Algorithm')"
      ]
     },
     "execution_count": 24,
     "metadata": {},
     "output_type": "execute_result"
    },
    {
     "data": {
      "image/png": "[encoded data removed]",
      "text/plain": [
       "<Figure size 432x288 with 1 Axes>"
      ]
     },
     "metadata": {
      "needs_background": "light"
     },
     "output_type": "display_data"
    }
   ],
   "source": [
    "plt.bar(sort_times.index, sort_times['Binary Search'], 0.35)\n",
    "plt.legend(('Binary Search'))\n",
    "plt.ylabel('Execution time (ms)')\n",
    "plt.xlabel('Name')\n",
    "plt.title('Time for Binary Search Algorithm')"
   ]
  },
  {
   "cell_type": "code",
   "execution_count": 25,
   "id": "32e2057b",
   "metadata": {},
   "outputs": [
    {
     "data": {
      "text/plain": [
       "Text(0.5, 1.0, 'Time for Linear Search Algorithm')"
      ]
     },
     "execution_count": 25,
     "metadata": {},
     "output_type": "execute_result"
    },
    {
     "data": {
      "image/png": "[encoded data removed]",
      "text/plain": [
       "<Figure size 432x288 with 1 Axes>"
      ]
     },
     "metadata": {
      "needs_background": "light"
     },
     "output_type": "display_data"
    }
   ],
   "source": [
    "plt.bar(sort_times.index, sort_times['Linear Search'], 0.35)\n",
    "plt.legend(('Linear Search'))\n",
    "plt.ylabel('Execution time (ms)')\n",
    "plt.xlabel('Name')\n",
    "plt.title('Time for Linear Search Algorithm')"
   ]
  },
  {
   "cell_type": "code",
   "execution_count": 26,
   "id": "abb161c6",
   "metadata": {},
   "outputs": [
    {
     "data": {
      "text/plain": [
       "Text(0.5, 1.0, 'Time for Hash Function')"
      ]
     },
     "execution_count": 26,
     "metadata": {},
     "output_type": "execute_result"
    },
    {
     "data": {
      "image/png": "[encoded data removed]",
      "text/plain": [
       "<Figure size 432x288 with 1 Axes>"
      ]
     },
     "metadata": {
      "needs_background": "light"
     },
     "output_type": "display_data"
    }
   ],
   "source": [
    "plt.bar(sort_times.index, sort_times['Hashed Search'], 0.35)\n",
    "plt.legend(('Hashed Search'))\n",
    "plt.ylabel('Execution time (ms)')\n",
    "plt.xlabel('Name')\n",
    "plt.title('Time for Hash Function')"
   ]
  },
  {
   "cell_type": "markdown",
   "id": "15d1fc00",
   "metadata": {},
   "source": [
    "# EXECUTIVE SUMMARY"
   ]
  },
  {
   "cell_type": "markdown",
   "id": "720889fa",
   "metadata": {},
   "source": [
    "### Introduction"
   ]
  },
  {
   "cell_type": "markdown",
   "id": "8b4f8095",
   "metadata": {},
   "source": [
    "This report analyzed the speed of the hash function by comparing it to the speed of the binary search algorithm, and by comparing it to the speed of the linear search algorithm. A set of one-hundred thousand random names were generated composed of a length of ten string characters. From this set, six names were randomly selected as the sample. The hash function and the algorithms searched for the sample set within the population set of one-hundred thousand names. "
   ]
  },
  {
   "cell_type": "markdown",
   "id": "fc86fcf6",
   "metadata": {},
   "source": [
    "### Hashing"
   ]
  },
  {
   "cell_type": "markdown",
   "id": "f7ef2fb8",
   "metadata": {},
   "source": [
    "The hash function inputs a string character and returns a numeric value. It maps a string to a number. This is a form of mapping a source to a target. In an array, the hash function maps a string character to an index. "
   ]
  },
  {
   "cell_type": "markdown",
   "id": "017b628b",
   "metadata": {},
   "source": [
    "### Industry Application"
   ]
  },
  {
   "cell_type": "markdown",
   "id": "28b4eee2",
   "metadata": {},
   "source": [
    "The hash function is a commonly implemented solution in various applications. The hash function can be used to create hash tables and look ups. The is because hash tables are great for mapping and the hash function quickly retrieves the requested item from the hash table. The hash function is also used for DNS resolution because it maps a wed address to an IP address. Hash functions are used in caching to reduce the workload for the server. As the data of a website is cached, it makes retrieving a webpage quick and instant as the data is memorized and instant sent to the client. This is an optimal choice for search, insert, and delete tasks because of its speed. Hash functions are also used in cryptography to encrypt data. "
   ]
  },
  {
   "cell_type": "markdown",
   "id": "2c763583",
   "metadata": {},
   "source": [
    "### Methodology"
   ]
  },
  {
   "cell_type": "markdown",
   "id": "63f91184",
   "metadata": {},
   "source": [
    "A population sample of one-hundred randomnly generated names were used to select a random sample of six names. The length value of each item was ten string characters. For each item, the execution time of the hash function algorithm was appended to a list created to store the values for execution time. The binary search algorithm and the linear search algorithm were used only for their comparative values and will not be discussed in further detail. "
   ]
  },
  {
   "cell_type": "markdown",
   "id": "11a15d8b",
   "metadata": {},
   "source": [
    "### Analysis & Results"
   ]
  },
  {
   "cell_type": "markdown",
   "id": "9323df0b",
   "metadata": {},
   "source": [
    "The results displayed on table 1 show the execution time for a hash function is faster than the execution time for the binary search algorithm and faster than the execution time for the linear search algorithm. For the hash function to find the first name was zero milliseconds, the binary search execution speed is 0.009775 milliseconds; the execution speed for the linear search algorithm is 0.856876 milliseconds. As the length of the array or set increases, the linear search time will continue to increase. For the binary search algorithm, the median values yield consistent results because of how the algorithm takes an object and splits it in half, and then retrieves the requested item."
   ]
  },
  {
   "cell_type": "markdown",
   "id": "86eb3175",
   "metadata": {},
   "source": [
    "### Discussion of Big O Notation"
   ]
  },
  {
   "cell_type": "markdown",
   "id": "0ef5678a",
   "metadata": {},
   "source": [
    "Big O notation for the hash function algorithm is O(1) for search, insert, and delete. The time is constant on average. Wheter retrieving a single item or millions of items, the time will be constant and the same for both operations. "
   ]
  },
  {
   "cell_type": "markdown",
   "id": "99c8c273",
   "metadata": {},
   "source": [
    "### Conclusion"
   ]
  },
  {
   "cell_type": "markdown",
   "id": "6bfd6b0f",
   "metadata": {},
   "source": [
    "The execution speed of a hash function read in Big O notation is given as O(1). This makes hash tables great for retrieving items from a collection of billions of items. It also makes it a great option for large websites because caching can be used to lessen the work demands on the server. Hash tables are great for identifying the relationship between a string character and a numeric value. An attribute of a efficient hash function is even distribution across an array."
   ]
  }
 ],
 "metadata": {
  "kernelspec": {
   "display_name": "Python 3 (ipykernel)",
   "language": "python",
   "name": "python3"
  },
  "language_info": {
   "codemirror_mode": {
    "name": "ipython",
    "version": 3
   },
   "file_extension": ".py",
   "mimetype": "text/x-python",
   "name": "python",
   "nbconvert_exporter": "python",
   "pygments_lexer": "ipython3",
   "version": "3.9.7"
  }
 },
 "nbformat": 4,
 "nbformat_minor": 5
}
