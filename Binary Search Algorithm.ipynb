{
 "cells": [
  {
   "cell_type": "code",
   "execution_count": 1,
   "id": "8a45770c",
   "metadata": {},
   "outputs": [],
   "source": [
    "#Import Packages\n",
    "import random\n",
    "import datetime\n",
    "import time\n",
    "import pandas as pd\n",
    "from matplotlib import pyplot as plt\n",
    "import numpy as np\n",
    "%matplotlib inline\n",
    "SEED = 500"
   ]
  },
  {
   "cell_type": "markdown",
   "id": "84e739fa",
   "metadata": {},
   "source": [
    "1) To begin, let's generate some random data to work with. Ensure that a common random number seed is used to generate each of the arrays. We will make five arrays, each of length 512, 1024, 2048, 4096, and 8192 containing randomly generated uniformly distributed integers from 1 to 10000.  You may use the numpy package for this. "
   ]
  },
  {
   "cell_type": "code",
   "execution_count": 2,
   "id": "08facad9",
   "metadata": {},
   "outputs": [],
   "source": [
    "# generate array of specified length using constant random seed\n",
    "def generate_array(n):\n",
    "    array = []\n",
    "    random.seed(SEED)\n",
    "    for i in range(0, n):\n",
    "        array.append(random.randint(0, 10000))\n",
    "    return array"
   ]
  },
  {
   "cell_type": "code",
   "execution_count": 3,
   "id": "c7916ae5",
   "metadata": {},
   "outputs": [],
   "source": [
    "#creates arrays of n length  \n",
    "arrays = []\n",
    "arrays.append(generate_array(512))\n",
    "arrays.append(generate_array(1024))\n",
    "arrays.append(generate_array(2048))\n",
    "arrays.append(generate_array(4096))\n",
    "arrays.append(generate_array(8192))"
   ]
  },
  {
   "cell_type": "code",
   "execution_count": 4,
   "id": "63af010f",
   "metadata": {},
   "outputs": [],
   "source": [
    "x = []\n",
    "for i in range(0, 10000):\n",
    "    x.append(random.randint(0,10000))"
   ]
  },
  {
   "cell_type": "markdown",
   "id": "c7b44f3d",
   "metadata": {},
   "source": [
    "2) Sort each of the random number arrays from smallest to largest.  You may use any algorithm to sort the data.\n"
   ]
  },
  {
   "cell_type": "markdown",
   "id": "9b73dfb5",
   "metadata": {},
   "source": [
    "3)Execute the base search algorithm (binary search) (from the text and github code) for each of array, noting the execution time for each array. With each execution use the maximum value of the random number array as the number for which you are searching."
   ]
  },
  {
   "cell_type": "code",
   "execution_count": 5,
   "id": "487b1e0e",
   "metadata": {},
   "outputs": [],
   "source": [
    "# Bhargava's binary search\n",
    "def binary_search(mylist, item):\n",
    "    start_time = (datetime.datetime.now())\n",
    "    low = 0\n",
    "    high =len(mylist) - 1 \n",
    "    count = 0\n",
    "    while low <= high:\n",
    "        mid = (low + high)\n",
    "        guess = mylist[mid]\n",
    "        if guess == item:\n",
    "            return mid\n",
    "        if guess > item:\n",
    "            high = mid - 1\n",
    "        else:\n",
    "            low = mid + 1\n",
    "        count+=1\n",
    "    return None"
   ]
  },
  {
   "cell_type": "code",
   "execution_count": 6,
   "id": "7f073f5e",
   "metadata": {},
   "outputs": [],
   "source": [
    "# linear search\n",
    "def linear_search(mylist, item):\n",
    "    for i in range(len(mylist)):\n",
    "        if mylist[i]==item:\n",
    "            return i\n",
    "    return None"
   ]
  },
  {
   "cell_type": "code",
   "execution_count": 7,
   "id": "555568bd",
   "metadata": {},
   "outputs": [],
   "source": [
    "# arrays to store sort time, linear search time, and binary search time\n",
    "sort_times = []\n",
    "linear_times = []\n",
    "binary_times = []\n",
    "\n",
    "for list_item in arrays:\n",
    "    start_time = (datetime.datetime.now())\n",
    "    list_item.sort()\n",
    "    sort_times.append((datetime.datetime.now() - start_time).\n",
    "                      total_seconds() * 1000) \n",
    "       \n",
    "    linear_start = datetime.datetime.now()\n",
    "    linear_search(list_item, list_item[-1])\n",
    "    linear_times.append((datetime.datetime.now() - linear_start).\n",
    "                      total_seconds() * 1000)\n",
    "    \n",
    "    binary_start = datetime.datetime.now()\n",
    "    binary_search(list_item, list_item[-1])\n",
    "    binary_times.append((datetime.datetime.now() - binary_start)\n",
    "                        .total_seconds() * 1000)"
   ]
  },
  {
   "cell_type": "code",
   "execution_count": 8,
   "id": "93d9e6a5",
   "metadata": {},
   "outputs": [],
   "source": [
    "array_length = []\n",
    "for l in range(len(arrays)):\n",
    "    array_length.append(len(arrays[l]))\n"
   ]
  },
  {
   "cell_type": "markdown",
   "id": "03db99fe",
   "metadata": {},
   "source": [
    "4) Now we will compare this to a linear search. Use python (perhaps with the Pandas package) to prepare a five-column table containing the following columns with all times in milliseconds:\n",
    " - length of the random number array\n",
    " - sort time\n",
    " - linear search time for the sorted array\n",
    " - binary search time for the sorted array\n",
    " - binary search plus sort times"
   ]
  },
  {
   "cell_type": "code",
   "execution_count": 9,
   "id": "5b2b76a9",
   "metadata": {},
   "outputs": [],
   "source": [
    "#Define dataframe with array length, sort time, linear search, and binary search\n",
    "time_df = {'array length':array_length,\n",
    "          'sort time': sort_times,\n",
    "          'linear search': linear_times,\n",
    "          'binary search': binary_times}\n",
    "time_df = pd.DataFrame(data=time_df)"
   ]
  },
  {
   "cell_type": "code",
   "execution_count": 10,
   "id": "64d8ffe8",
   "metadata": {},
   "outputs": [
    {
     "data": {
      "text/html": [
       "<div>\n",
       "<style scoped>\n",
       "    .dataframe tbody tr th:only-of-type {\n",
       "        vertical-align: middle;\n",
       "    }\n",
       "\n",
       "    .dataframe tbody tr th {\n",
       "        vertical-align: top;\n",
       "    }\n",
       "\n",
       "    .dataframe thead th {\n",
       "        text-align: right;\n",
       "    }\n",
       "</style>\n",
       "<table border=\"1\" class=\"dataframe\">\n",
       "  <thead>\n",
       "    <tr style=\"text-align: right;\">\n",
       "      <th></th>\n",
       "      <th>array length</th>\n",
       "      <th>sort time</th>\n",
       "      <th>linear search</th>\n",
       "      <th>binary search</th>\n",
       "      <th>total linear</th>\n",
       "      <th>total binary</th>\n",
       "    </tr>\n",
       "  </thead>\n",
       "  <tbody>\n",
       "    <tr>\n",
       "      <th>0</th>\n",
       "      <td>512</td>\n",
       "      <td>0.050</td>\n",
       "      <td>0.026</td>\n",
       "      <td>0.003</td>\n",
       "      <td>0.076</td>\n",
       "      <td>0.053</td>\n",
       "    </tr>\n",
       "    <tr>\n",
       "      <th>1</th>\n",
       "      <td>1024</td>\n",
       "      <td>0.074</td>\n",
       "      <td>0.051</td>\n",
       "      <td>0.001</td>\n",
       "      <td>0.125</td>\n",
       "      <td>0.075</td>\n",
       "    </tr>\n",
       "    <tr>\n",
       "      <th>2</th>\n",
       "      <td>2048</td>\n",
       "      <td>0.155</td>\n",
       "      <td>0.137</td>\n",
       "      <td>0.002</td>\n",
       "      <td>0.292</td>\n",
       "      <td>0.157</td>\n",
       "    </tr>\n",
       "    <tr>\n",
       "      <th>3</th>\n",
       "      <td>4096</td>\n",
       "      <td>0.361</td>\n",
       "      <td>0.200</td>\n",
       "      <td>0.001</td>\n",
       "      <td>0.561</td>\n",
       "      <td>0.362</td>\n",
       "    </tr>\n",
       "    <tr>\n",
       "      <th>4</th>\n",
       "      <td>8192</td>\n",
       "      <td>0.758</td>\n",
       "      <td>0.412</td>\n",
       "      <td>0.001</td>\n",
       "      <td>1.170</td>\n",
       "      <td>0.759</td>\n",
       "    </tr>\n",
       "  </tbody>\n",
       "</table>\n",
       "</div>"
      ],
      "text/plain": [
       "   array length  sort time  linear search  binary search  total linear  \\\n",
       "0           512      0.050          0.026          0.003         0.076   \n",
       "1          1024      0.074          0.051          0.001         0.125   \n",
       "2          2048      0.155          0.137          0.002         0.292   \n",
       "3          4096      0.361          0.200          0.001         0.561   \n",
       "4          8192      0.758          0.412          0.001         1.170   \n",
       "\n",
       "   total binary  \n",
       "0         0.053  \n",
       "1         0.075  \n",
       "2         0.157  \n",
       "3         0.362  \n",
       "4         0.759  "
      ]
     },
     "execution_count": 10,
     "metadata": {},
     "output_type": "execute_result"
    }
   ],
   "source": [
    "# Calculate combined search and sort execution times, and add to dataframe\n",
    "time_df['total linear'] = time_df['sort time'] + time_df['linear search']\n",
    "time_df['total binary'] = time_df['sort time'] + time_df['binary search']\n",
    "time_df"
   ]
  },
  {
   "cell_type": "markdown",
   "id": "c03a0d83",
   "metadata": {},
   "source": [
    "5) Use python matplotlib or Seaborn to generate a plot with the size of the random number array on the horizontal axis and with execution time in milliseconds on the vertical axis. The plot should show execution time against array size for linear and binary search algorithms alone.  Discuss the results."
   ]
  },
  {
   "cell_type": "markdown",
   "id": "61393f96",
   "metadata": {},
   "source": [
    "The execution time for a binary search algorithm remained unchanged throughout execution across the different array lengths. The linear search algorithm increased in execution time as the array length increases. At a length of 512, the execution time for both algorithms are within 0.05 milliseconds of one another. At an array length of 1024, the time increases by a factor of two. This trend remains unchanged as array length increases; at an array length of 8192, execution time has increased to approximately 0.40 milliseconds. The binary search algorithm operates on O(log n)which means as the count of objects increases, the execution time remains the same. With the linear search algorithm, as n increases, the execution time increases. The binary search algorithm becomes faster as n increases. This is seen because the execution time takes longer for the linear search algorithm as n increases. \n"
   ]
  },
  {
   "cell_type": "code",
   "execution_count": 11,
   "id": "21cdfafb",
   "metadata": {},
   "outputs": [
    {
     "data": {
      "text/plain": [
       "Text(0.5, 1.0, 'Fig 1: Execution Time by Search Type')"
      ]
     },
     "execution_count": 11,
     "metadata": {},
     "output_type": "execute_result"
    },
    {
     "data": {
      "image/png": "[encoded data removed]",
      "text/plain": [
       "<Figure size 432x288 with 1 Axes>"
      ]
     },
     "metadata": {
      "needs_background": "light"
     },
     "output_type": "display_data"
    }
   ],
   "source": [
    "#plot results without sort time\n",
    "plt.scatter(time_df['array length'], [time_df['linear search']])\n",
    "plt.scatter(time_df['array length'], [time_df['binary search']])\n",
    "plt.legend(('linear search', 'binary search'))\n",
    "plt.xticks(time_df['array length'], rotation=-45)\n",
    "plt.ylabel('Execution time (ms)')\n",
    "plt.xlabel('Array length')\n",
    "plt.title('Fig 1: Execution Time by Search Type')"
   ]
  },
  {
   "cell_type": "markdown",
   "id": "a9a66fd8",
   "metadata": {},
   "source": [
    "6) Use Python matplotlib or Seaborn to generate a measure of the size of the data set on the horizontal axis and with execution time in milliseconds on the vertical axis. The plot should show execution time against array size for each form of the algorithm being tested (last four columns of the table).  Discuss the results."
   ]
  },
  {
   "cell_type": "markdown",
   "id": "d1c1dc2f",
   "metadata": {},
   "source": [
    "Figure 2 shows O(n*log n) executing as the sort + linear search and the sort + binary search execution times both increased. A Linear search algorithm can be implemented on an unsorted data set while a binary search algorithm can be executed on a sorted data set. A binary search algorithm becomes faster and is the optimal approach for executing a search. As n increases, the number of operations needed increases with a linear search algorithm. A binary search algorithm executes over half the data until it reaches a solution. So as the number of objects increases, the number of steps increases but the binary search algorithm is able to arrive at a solution with a fraction of the steps.  "
   ]
  },
  {
   "cell_type": "code",
   "execution_count": 12,
   "id": "7dceee0d",
   "metadata": {},
   "outputs": [
    {
     "data": {
      "text/plain": [
       "Text(0.5, 1.0, 'Fig 2: Execution Time by Search Type (Sort Time Included)')"
      ]
     },
     "execution_count": 12,
     "metadata": {},
     "output_type": "execute_result"
    },
    {
     "data": {
      "image/png": "[encoded data removed]",
      "text/plain": [
       "<Figure size 432x288 with 1 Axes>"
      ]
     },
     "metadata": {
      "needs_background": "light"
     },
     "output_type": "display_data"
    }
   ],
   "source": [
    "#plot results with sort time\n",
    "plt.scatter(time_df['array length'], [time_df['total linear']])\n",
    "plt.scatter(time_df['array length'], [time_df['total binary']])\n",
    "plt.legend(('sort + linear search',\n",
    "            'sort + binary search'))\n",
    "plt.xticks(time_df['array length'], rotation=-45)\n",
    "plt.ylabel('Execution time (ms)')\n",
    "plt.xlabel('Array length')\n",
    "plt.title('Fig 2: Execution Time by Search Type (Sort Time Included)')"
   ]
  },
  {
   "cell_type": "markdown",
   "id": "1227d01b",
   "metadata": {},
   "source": [
    "EXECUTIVE SUMMARY"
   ]
  },
  {
   "cell_type": "markdown",
   "id": "3c27f2ad",
   "metadata": {},
   "source": [
    "Introduction"
   ]
  },
  {
   "cell_type": "markdown",
   "id": "4a3c9a0d",
   "metadata": {},
   "source": [
    "Search algorithms have a primary objective of locating a search target within a list. As the number of objects within a list increase, the execution time increases which hinders achieving growth. Linear search and binary search algorithms are implemented when attempting to achieve efficiency and scalability. This was an analysis of the execution time of the binary search algorithm and the linear search algorithm across varying array lengths. "
   ]
  },
  {
   "cell_type": "markdown",
   "id": "f7f8ced8",
   "metadata": {},
   "source": [
    "Algorithms"
   ]
  },
  {
   "cell_type": "markdown",
   "id": "d37b7e33",
   "metadata": {},
   "source": [
    "A binary search algorithm starts at the median value of a set and compares it to the targeted value until it locates the value in the search. It continues on the median value as iterations exclude values which were not the target value. If a value is high, the median point is held to the right of the initial search position. If a value is low, the median point is held to the left of the initial search position. This continues until the search target is located or the search area has been exhausted. A linear search algorithm starts at the beginning of a set and moves sequentially from left to right until it locates the target value or until the search area has been exhausted.  "
   ]
  },
  {
   "cell_type": "markdown",
   "id": "9a7e2461",
   "metadata": {},
   "source": [
    "Industry Application"
   ]
  },
  {
   "cell_type": "markdown",
   "id": "4933c943",
   "metadata": {},
   "source": [
    "Search algorithms help organizations and customers achieve their results faster and more efficiently. The task of a data engineer is to design, build, and maintain a system which is operational, easy to maintain, and produces value for the organization. As organizations grow, the volume and velocity of data produced will increase. A data engineer has the responsibility to achieve growth at scale. A linear search algorithm is well-suited for unsorted lists while a binary search algorithm is well-suited for sorted lists. At scale, a binary search algorithm is efficient for working with large datasets.  "
   ]
  },
  {
   "cell_type": "markdown",
   "id": "976318e1",
   "metadata": {},
   "source": [
    "Methodology"
   ]
  },
  {
   "cell_type": "markdown",
   "id": "52844491",
   "metadata": {},
   "source": [
    "A set of five random data arrays were generated for this analysis as input. The array lengths were 512,1024,2048,4096, and 8192. The arrays were sorted from low to high with the target search objective being to sort through the arrays. For each array, the target search value was located at the end of the executed search. The purpose being to determine the amount of time for each algorithm to execute and locate the target search value. "
   ]
  },
  {
   "cell_type": "markdown",
   "id": "5b68871f",
   "metadata": {},
   "source": [
    "Analysis & Results"
   ]
  },
  {
   "cell_type": "markdown",
   "id": "387e27ab",
   "metadata": {},
   "source": [
    "Figure 1 displays the results generated from a linear search and a binary search. As the array length increased, the linear search algorithm execution time increases as the quantity of objects increases. The binary search algorithm remains constants, this is because the larger the dataset, the number of operations needed to locate the target value increases but not exponentially. Figure 2 displays the results generated a linear search and a binary search, each with the added execution time for sorting through the arrays. At an array length of 2048, the linear search and binary search execution times vary by a factor of two. "
   ]
  },
  {
   "cell_type": "markdown",
   "id": "da16e442",
   "metadata": {},
   "source": [
    "Discussion of Big O Notation"
   ]
  },
  {
   "cell_type": "markdown",
   "id": "4e5ca877",
   "metadata": {},
   "source": [
    "The speed of an algorithm is denoted in Big O notation. It describes the number of steps needed to successfully execute a search to locate the target value. For a binary search algorithm, this is denoted as O(log n). The algorithm works by locating the target value at the median position of a list. Binary search accounts for time logarithmically while linear search accounts for time sequentially. Notation for a linear search is O(n) and for sort, the notation is O(n * log n)."
   ]
  },
  {
   "cell_type": "markdown",
   "id": "5641efd6",
   "metadata": {},
   "source": [
    "Conclusion"
   ]
  },
  {
   "cell_type": "markdown",
   "id": "f92d23d0",
   "metadata": {},
   "source": [
    "For an organization with the objective of growing its business, it will need to be able to scale it operations. As the business grows, the tasks required will grow in both complexity and process. To remain agile, a binary search algorithm would allow for an organization to deliver results while being aware of its resources. An example would be an organization's hardware systems and the processing limitations of those sytems, implementing the binary search algorithm over the linear search algorithm would be the optimal approach because it would require less resources to produce the same target but not the same results nor the same value. The same results and the same value are not achieved through the linear search algorithm, as the resources required to achieve the same target are above those from the binary search algorithm.  "
   ]
  }
 ],
 "metadata": {
  "kernelspec": {
   "display_name": "Python 3 (ipykernel)",
   "language": "python",
   "name": "python3"
  },
  "language_info": {
   "codemirror_mode": {
    "name": "ipython",
    "version": 3
   },
   "file_extension": ".py",
   "mimetype": "text/x-python",
   "name": "python",
   "nbconvert_exporter": "python",
   "pygments_lexer": "ipython3",
   "version": "3.9.7"
  }
 },
 "nbformat": 4,
 "nbformat_minor": 5
}
