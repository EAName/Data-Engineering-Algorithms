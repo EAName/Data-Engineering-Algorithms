{
 "cells": [
  {
   "cell_type": "code",
   "execution_count": 1,
   "id": "6844b40f",
   "metadata": {},
   "outputs": [],
   "source": [
    "#Import Packages\n",
    "import numpy as np\n",
    "import pandas as pd\n",
    "import matplotlib.pyplot as plt\n",
    "import time\n",
    "import random\n",
    "import string\n",
    "%matplotlib inline "
   ]
  },
  {
   "cell_type": "code",
   "execution_count": 2,
   "id": "b7efb406",
   "metadata": {},
   "outputs": [],
   "source": [
    "# Finds the smallest value in an array\n",
    "def findSmallest_LEV(arr):\n",
    "    \n",
    "  print(\"  Finding smallest value in {0}\".format(arr))  \n",
    "    \n",
    "  # Stores the smallest value\n",
    "  smallest = arr[0]\n",
    "  # Stores the index of the smallest value\n",
    "  smallest_index = 0\n",
    "  \n",
    "  print(\"      **** New smallest values is {0} ****\".format(smallest))\n",
    "  \n",
    "  for i in range(1, len(arr)):\n",
    "\n",
    "    print(\"    Comparing {0} and {1}\".format(smallest, arr[i]))\n",
    "    if arr[i] < smallest:\n",
    "      smallest_index = i\n",
    "      smallest = arr[i]      \n",
    "      print(\"      **** New smallest values is {0} ****\".format(smallest))\n",
    "      \n",
    "      \n",
    "  print(\"    DONE searching for smallest value in this iteration which is {0}\".format(smallest)) \n",
    "  return smallest_index"
   ]
  },
  {
   "cell_type": "code",
   "execution_count": 3,
   "id": "30765f1d",
   "metadata": {},
   "outputs": [
    {
     "name": "stdout",
     "output_type": "stream",
     "text": [
      "STARTING SORT ALGORITHM\n",
      "  Finding smallest value in [5, 3, 6, 2, 10]\n",
      "      **** New smallest values is 5 ****\n",
      "    Comparing 5 and 3\n",
      "      **** New smallest values is 3 ****\n",
      "    Comparing 3 and 6\n",
      "    Comparing 3 and 2\n",
      "      **** New smallest values is 2 ****\n",
      "    Comparing 2 and 10\n",
      "    DONE searching for smallest value in this iteration which is 2\n",
      "      Smallest value of 2 is at index 3 [---] output array is now [2]\n",
      "  Finding smallest value in [5, 3, 6, 10]\n",
      "      **** New smallest values is 5 ****\n",
      "    Comparing 5 and 3\n",
      "      **** New smallest values is 3 ****\n",
      "    Comparing 3 and 6\n",
      "    Comparing 3 and 10\n",
      "    DONE searching for smallest value in this iteration which is 3\n",
      "      Smallest value of 3 is at index 1 [---] output array is now [2, 3]\n",
      "  Finding smallest value in [5, 6, 10]\n",
      "      **** New smallest values is 5 ****\n",
      "    Comparing 5 and 6\n",
      "    Comparing 5 and 10\n",
      "    DONE searching for smallest value in this iteration which is 5\n",
      "      Smallest value of 5 is at index 0 [---] output array is now [2, 3, 5]\n",
      "  Finding smallest value in [6, 10]\n",
      "      **** New smallest values is 6 ****\n",
      "    Comparing 6 and 10\n",
      "    DONE searching for smallest value in this iteration which is 6\n",
      "      Smallest value of 6 is at index 0 [---] output array is now [2, 3, 5, 6]\n",
      "  Finding smallest value in [10]\n",
      "      **** New smallest values is 10 ****\n",
      "    DONE searching for smallest value in this iteration which is 10\n",
      "      Smallest value of 10 is at index 0 [---] output array is now [2, 3, 5, 6, 10]\n",
      "FINISHING SORT ALGORITHM\n",
      "[2, 3, 5, 6, 10]\n"
     ]
    }
   ],
   "source": [
    "# Sort array\n",
    "def selectionSort_LEV(arr):\n",
    "  newArr = []\n",
    "  \n",
    "  print(\"STARTING SORT ALGORITHM\")\n",
    "  \n",
    "  for i in range(len(arr)):\n",
    "      \n",
    "      # Finds the smallest element in the array and adds it to the new array\n",
    "      smallest_idx = findSmallest_LEV(arr)\n",
    "      smallest_val = arr.pop(smallest_idx)\n",
    "      \n",
    "      newArr.append(smallest_val)\n",
    "      \n",
    "      print(\"      Smallest value of {0} is at index {1} [---] output array is now {2}\".format(smallest_val, smallest_idx, newArr))\n",
    "      \n",
    "  print(\"FINISHING SORT ALGORITHM\")    \n",
    "      \n",
    "  return newArr\n",
    "\n",
    "print(selectionSort_LEV([5, 3, 6, 2, 10]))"
   ]
  },
  {
   "cell_type": "code",
   "execution_count": 4,
   "id": "a424bbaf",
   "metadata": {},
   "outputs": [],
   "source": [
    "def findSmallest(arr):\n",
    "  smallest = arr[0]\n",
    "  smallest_index = 0\n",
    "  for i in range(1, len(arr)):\n",
    "    if arr[i] < smallest:\n",
    "      smallest_index = i\n",
    "      smallest = arr[i]      \n",
    "  return smallest_index\n",
    "\n"
   ]
  },
  {
   "cell_type": "code",
   "execution_count": 5,
   "id": "ae04af54",
   "metadata": {},
   "outputs": [
    {
     "name": "stdout",
     "output_type": "stream",
     "text": [
      "[2, 3, 5, 6, 10]\n"
     ]
    }
   ],
   "source": [
    "def selectionSort(arr):\n",
    "  newArr = []\n",
    "  for i in range(len(arr)):\n",
    "      smallest = findSmallest(arr)\n",
    "      newArr.append(arr.pop(smallest))\n",
    "  return newArr\n",
    "\n",
    "\n",
    "print(selectionSort([5, 3, 6, 2, 10]))"
   ]
  },
  {
   "cell_type": "code",
   "execution_count": 6,
   "id": "263efc49",
   "metadata": {},
   "outputs": [],
   "source": [
    "#define simplesort\n",
    "def simpleSort(arr):\n",
    "    for i in range(len(arr)):\n",
    "        for j in range(i+1, len(arr)):\n",
    "            if arr[i] > arr[j]:\n",
    "                arr[i], arr[j] = arr[j], arr[i]\n",
    "                \n",
    "    return arr"
   ]
  },
  {
   "cell_type": "markdown",
   "id": "e6a2ad92",
   "metadata": {},
   "source": [
    "### 1) We will again generate random data for this assignment.  Please set up five data arrays of length 5,000, 10,000, 15,000, 20,000, and 25,000 of uniformly distributed random numbers (you may use either integers or floating point). Ensure that a common random number seed is used to generate each of the arrays.  \n",
    "\n",
    "\n",
    "### 2) Execute the base algorithm (Selection Sort) for each of the random number arrays, noting the execution time with each execution. Use one of the timing methods we learned in class. \n",
    "\n"
   ]
  },
  {
   "cell_type": "code",
   "execution_count": 7,
   "id": "9209b60c",
   "metadata": {},
   "outputs": [
    {
     "data": {
      "text/html": [
       "<div>\n",
       "<style scoped>\n",
       "    .dataframe tbody tr th:only-of-type {\n",
       "        vertical-align: middle;\n",
       "    }\n",
       "\n",
       "    .dataframe tbody tr th {\n",
       "        vertical-align: top;\n",
       "    }\n",
       "\n",
       "    .dataframe thead th {\n",
       "        text-align: right;\n",
       "    }\n",
       "</style>\n",
       "<table border=\"1\" class=\"dataframe\">\n",
       "  <thead>\n",
       "    <tr style=\"text-align: right;\">\n",
       "      <th></th>\n",
       "      <th>Array Length</th>\n",
       "      <th>Simple Sort</th>\n",
       "      <th>Selection Sort</th>\n",
       "    </tr>\n",
       "  </thead>\n",
       "  <tbody>\n",
       "    <tr>\n",
       "      <th>0</th>\n",
       "      <td>5000</td>\n",
       "      <td>1.536842</td>\n",
       "      <td>0.799483</td>\n",
       "    </tr>\n",
       "    <tr>\n",
       "      <th>1</th>\n",
       "      <td>10000</td>\n",
       "      <td>6.218913</td>\n",
       "      <td>3.145293</td>\n",
       "    </tr>\n",
       "    <tr>\n",
       "      <th>2</th>\n",
       "      <td>15000</td>\n",
       "      <td>14.015446</td>\n",
       "      <td>7.242711</td>\n",
       "    </tr>\n",
       "    <tr>\n",
       "      <th>3</th>\n",
       "      <td>20000</td>\n",
       "      <td>24.901422</td>\n",
       "      <td>12.767816</td>\n",
       "    </tr>\n",
       "    <tr>\n",
       "      <th>4</th>\n",
       "      <td>25000</td>\n",
       "      <td>38.724614</td>\n",
       "      <td>19.672355</td>\n",
       "    </tr>\n",
       "  </tbody>\n",
       "</table>\n",
       "</div>"
      ],
      "text/plain": [
       "   Array Length  Simple Sort  Selection Sort\n",
       "0          5000     1.536842        0.799483\n",
       "1         10000     6.218913        3.145293\n",
       "2         15000    14.015446        7.242711\n",
       "3         20000    24.901422       12.767816\n",
       "4         25000    38.724614       19.672355"
      ]
     },
     "execution_count": 7,
     "metadata": {},
     "output_type": "execute_result"
    }
   ],
   "source": [
    "# #array_string_5_5000 = [''.join(random.choices(string.ascii_letters, k = 15)) for _ in range(5000)]\n",
    "# #array_string_5_10000 = [''.join(random.choices(string.ascii_letters, k = 15)) for _ in range(10000)]\n",
    "# #array_string_5_15000 = [''.join(random.choices(string.ascii_letters, k = 15)) for _ in range(15000)]\n",
    "# #array_string_5_20000 = [''.join(random.choices(string.ascii_letters, k = 15)) for _ in range(20000)]\n",
    "\n",
    "# array_string_15_5000 = [''.join(random.choices(string.ascii_letters, k = 15)) for _ in range(5000)]\n",
    "# array_string_15_10000 = [''.join(random.choices(string.ascii_letters, k = 15)) for _ in range(10000)]\n",
    "# array_string_15_15000 = [''.join(random.choices(string.ascii_letters, k = 15)) for _ in range(15000)]\n",
    "# array_string_15_20000 = [''.join(random.choices(string.ascii_letters, k = 15)) for _ in range(20000)]\n",
    "\n",
    "# array_int_5000 = list(np.random.randint(0, 1000000, 5000))\n",
    "# array_int_10000 = list(np.random.randint(0, 1000000, 10000))\n",
    "# array_int_15000 = list(np.random.randint(0, 1000000, 15000))\n",
    "# array_int_20000 = list(np.random.randint(0, 1000000, 20000))\n",
    "\n",
    "\n",
    "array_float_5000 = list(np.random.random(5000))\n",
    "array_float_10000 = list(np.random.random(10000))\n",
    "array_float_15000 = list(np.random.random(15000))\n",
    "array_float_20000 = list(np.random.random(20000))\n",
    "array_float_25000 = list(np.random.random(25000))\n",
    "\n",
    "\n",
    "# start_time = time.time()\n",
    "# out1 = selectionSort(array_string_5_5000)\n",
    "# end_time = time.time()\n",
    "# print(end_time - start_time)\n",
    "\n",
    "# start_time = time.time()\n",
    "# out1 = selectionSort(array_string_5_10000)\n",
    "# end_time = time.time()\n",
    "# print(end_time - start_time)\n",
    "\n",
    "# start_time = time.time()\n",
    "# out1 = selectionSort(array_string_5_15000)\n",
    "# end_time = time.time()\n",
    "# print(end_time - start_time)\n",
    "\n",
    "# start_time = time.time()\n",
    "# out1 = selectionSort(array_string_5_20000)\n",
    "# end_time = time.time()\n",
    "# print(end_time - start_time)\n",
    "\n",
    "\n",
    "\n",
    "# start_time = time.time()\n",
    "# out = selectionSort(array_int_5000)\n",
    "# end_time = time.time()\n",
    "# print(end_time - start_time)\n",
    "\n",
    "# start_time = time.time()\n",
    "# out = selectionSort(array_int_10000)\n",
    "# end_time = time.time()\n",
    "# print(end_time - start_time)\n",
    "\n",
    "# start_time = time.time()\n",
    "# out = selectionSort(array_int_15000)\n",
    "# end_time = time.time()\n",
    "# print(end_time - start_time)\n",
    "\n",
    "# start_time = time.time()\n",
    "# out = selectionSort(array_int_20000)\n",
    "# end_time = time.time()\n",
    "# print(end_time - start_time)\n",
    "\n",
    "\n",
    "\n",
    "\n",
    "N = [5000,10000,15000,20000,25000]\n",
    "selection_sort = []\n",
    "\n",
    "\n",
    "start_time = time.time()\n",
    "out = selectionSort(array_float_5000)\n",
    "end_time = time.time()\n",
    "#print(end_time - start_time)\n",
    "selection_5000 = (end_time - start_time)\n",
    "selection_sort.append(selection_5000)\n",
    "\n",
    "\n",
    "start_time = time.time()\n",
    "out = selectionSort(array_float_10000)\n",
    "end_time = time.time()\n",
    "#print(end_time - start_time)\n",
    "selection_10000 = (end_time - start_time)\n",
    "selection_sort.append(selection_10000)\n",
    "\n",
    "start_time = time.time()\n",
    "out = selectionSort(array_float_15000)\n",
    "end_time = time.time()\n",
    "#print(end_time - start_time)\n",
    "selection_15000 = (end_time - start_time)\n",
    "selection_sort.append(selection_15000)\n",
    "\n",
    "\n",
    "start_time = time.time()\n",
    "out = selectionSort(array_float_20000)\n",
    "end_time = time.time()\n",
    "#print(end_time - start_time)\n",
    "selection_20000 = (end_time - start_time)\n",
    "selection_sort.append(selection_20000)\n",
    "\n",
    "\n",
    "start_time = time.time()\n",
    "out = selectionSort(array_float_25000)\n",
    "end_time = time.time()\n",
    "#print(end_time - start_time)\n",
    "selection_25000 = (end_time - start_time)\n",
    "selection_sort.append(selection_25000)\n",
    "\n",
    "\n",
    "array_float_5000 = list(np.random.random(5000))\n",
    "array_float_10000 = list(np.random.random(10000))\n",
    "array_float_15000 = list(np.random.random(15000))\n",
    "array_float_20000 = list(np.random.random(20000))\n",
    "array_float_25000 = list(np.random.random(25000))\n",
    "\n",
    "\n",
    "# start_time = time.time()\n",
    "# out1 = selectionSort(array_string_5_5000)\n",
    "# end_time = time.time()\n",
    "# print(end_time - start_time)\n",
    "\n",
    "# start_time = time.time()\n",
    "# out1 = selectionSort(array_string_5_10000)\n",
    "# end_time = time.time()\n",
    "# print(end_time - start_time)\n",
    "\n",
    "# start_time = time.time()\n",
    "# out1 = selectionSort(array_string_5_15000)\n",
    "# end_time = time.time()\n",
    "# print(end_time - start_time)\n",
    "\n",
    "# start_time = time.time()\n",
    "# out1 = selectionSort(array_string_5_20000)\n",
    "# end_time = time.time()\n",
    "# print(end_time - start_time)\n",
    "\n",
    "\n",
    "\n",
    "# start_time = time.time()\n",
    "# out = selectionSort(array_int_5000)\n",
    "# end_time = time.time()\n",
    "# print(end_time - start_time)\n",
    "\n",
    "# start_time = time.time()\n",
    "# out = selectionSort(array_int_10000)\n",
    "# end_time = time.time()\n",
    "# print(end_time - start_time)\n",
    "\n",
    "# start_time = time.time()\n",
    "# out = selectionSort(array_int_15000)\n",
    "# end_time = time.time()\n",
    "# print(end_time - start_time)\n",
    "\n",
    "# start_time = time.time()\n",
    "# out = selectionSort(array_int_20000)\n",
    "# end_time = time.time()\n",
    "# print(end_time - start_time)\n",
    "\n",
    "\n",
    "\n",
    "\n",
    "N = [5000,10000,15000,20000,25000]\n",
    "simple_sort = []\n",
    "\n",
    "\n",
    "start_time = time.time()\n",
    "out = simpleSort(array_float_5000)\n",
    "end_time = time.time()\n",
    "#print(end_time - start_time)\n",
    "selection_5000 = (end_time - start_time)\n",
    "simple_sort.append(selection_5000)\n",
    "\n",
    "\n",
    "start_time = time.time()\n",
    "out = simpleSort(array_float_10000)\n",
    "end_time = time.time()\n",
    "#print(end_time - start_time)\n",
    "selection_10000 = (end_time - start_time)\n",
    "simple_sort.append(selection_10000)\n",
    "\n",
    "start_time = time.time()\n",
    "out = simpleSort(array_float_15000)\n",
    "end_time = time.time()\n",
    "#print(end_time - start_time)\n",
    "selection_15000 = (end_time - start_time)\n",
    "simple_sort.append(selection_15000)\n",
    "\n",
    "\n",
    "start_time = time.time()\n",
    "out = simpleSort(array_float_20000)\n",
    "end_time = time.time()\n",
    "#print(end_time - start_time)\n",
    "selection_20000 = (end_time - start_time)\n",
    "simple_sort.append(selection_20000)\n",
    "\n",
    "\n",
    "start_time = time.time()\n",
    "out = simpleSort(array_float_25000)\n",
    "end_time = time.time()\n",
    "#print(end_time - start_time)\n",
    "selection_25000 = (end_time - start_time)\n",
    "simple_sort.append(selection_25000)\n",
    "\n",
    "\n",
    "\n",
    "\n",
    "#Create and view dataframe with results from Sorting Methods\n",
    "df_times = pd.DataFrame(\n",
    "    {'Array Length': [5000, 10000, 15000, 20000, 25000],\n",
    "     'Simple Sort': simple_sort,\n",
    "     'Selection Sort': selection_sort\n",
    "    })\n",
    "\n",
    "df_times"
   ]
  },
  {
   "cell_type": "markdown",
   "id": "9e87328f",
   "metadata": {},
   "source": [
    "### 3) Just as in the last assignment, please organize the results of the study into a table showing the size of data array and the time taken to sort the array. Discuss the differences in timing and how they relate to data type and length of array. \n",
    "\n",
    "    As array size increases, sort time increases. The table shows the increase in speed with increased array length. An array length of n = 5000 has a simple sort execution time of 1.536842 seconds while the selection sort execution time is 0.799483. For an array length of n = 10000, the simple sort execution time is 6.218913 seconds while the selection sort execution time is 3.145293. This shows both algorithms increasing execution times with increasing array length. As array length increases, so too does execution time. For arrays, read time is constant as O(1). For lists, read time is linear as O(n). So execution time is faster for lists than arrays and will perform faster at scale. "
   ]
  },
  {
   "cell_type": "markdown",
   "id": "6a1fc881",
   "metadata": {},
   "source": [
    "### 4) Use Python matplotlib or Seaborn to generate a measure of the size of the data set on the horizontal axis and with execution time in milliseconds on the vertical axis. The plot should show execution time against problem size for each form of the algorithm being tested.  \n"
   ]
  },
  {
   "cell_type": "code",
   "execution_count": 8,
   "id": "44fbc8d3",
   "metadata": {},
   "outputs": [
    {
     "data": {
      "text/plain": [
       "Text(0.5, 1.0, 'Selection Sort')"
      ]
     },
     "execution_count": 8,
     "metadata": {},
     "output_type": "execute_result"
    },
    {
     "data": {
      "image/png": "[encoded data removed]",
      "text/plain": [
       "<Figure size 432x288 with 1 Axes>"
      ]
     },
     "metadata": {
      "needs_background": "light"
     },
     "output_type": "display_data"
    }
   ],
   "source": [
    "for i in range(len(N)):\n",
    "    selection_sort[i]\n",
    "    #print(N[i],selection_sort[i])\n",
    "    \n",
    "\n",
    "plt.plot(N,selection_sort)\n",
    "plt.xlabel('Length')\n",
    "plt.ylabel('Execution Time (ms)')\n",
    "plt.title('Selection Sort')"
   ]
  },
  {
   "cell_type": "code",
   "execution_count": 9,
   "id": "ab0d5e7c",
   "metadata": {},
   "outputs": [
    {
     "data": {
      "text/plain": [
       "Text(0.5, 1.0, 'Simple Sort')"
      ]
     },
     "execution_count": 9,
     "metadata": {},
     "output_type": "execute_result"
    },
    {
     "data": {
      "image/png": "[encoded data removed]",
      "text/plain": [
       "<Figure size 432x288 with 1 Axes>"
      ]
     },
     "metadata": {
      "needs_background": "light"
     },
     "output_type": "display_data"
    }
   ],
   "source": [
    "for i in range(len(N)):\n",
    "    simple_sort[i]\n",
    "    #print(N[i],simple_sort[i]) \n",
    "    \n",
    "plt.plot(N,simple_sort)\n",
    "plt.xlabel('Length')\n",
    "plt.ylabel('Execution Time (ms)')\n",
    "plt.title('Simple Sort')"
   ]
  },
  {
   "cell_type": "markdown",
   "id": "78e49a8d",
   "metadata": {},
   "source": [
    "### EXECUTIVE SUMMARY"
   ]
  },
  {
   "cell_type": "markdown",
   "id": "729f084b",
   "metadata": {},
   "source": [
    "INTRODUCTION"
   ]
  },
  {
   "cell_type": "markdown",
   "id": "f8fff3f6",
   "metadata": {},
   "source": [
    "This report analyzed the speed of the selection sort algorithm by comparing it to the speed of the simple sort algorithm. Five random arrays were generated composed of the following lengths: n = 5000, 10000, 15000, 20000, 25000. The algorithm sorted the values in the arrays from smallest to largest to measure sort times for how efficiently they performed, but how capable they are for handling scalability. "
   ]
  },
  {
   "cell_type": "markdown",
   "id": "72067d74",
   "metadata": {},
   "source": [
    "SELECTION SORT ALGORITHM"
   ]
  },
  {
   "cell_type": "markdown",
   "id": "cda6f8f5",
   "metadata": {},
   "source": [
    "The selection sort algorithm sequentially reads through an unsorted list to compare values by tracking what it finds to be the smallest value on iteration. As it iterates, it finds the smallest value and appends it to a sorted list with values ordered from smallest to largest. This continues until the unsorted list no longer contains values. "
   ]
  },
  {
   "cell_type": "markdown",
   "id": "c7d022c1",
   "metadata": {},
   "source": [
    "INDUSTRY APPLICATION"
   ]
  },
  {
   "cell_type": "markdown",
   "id": "a2865725",
   "metadata": {},
   "source": [
    "The amount of time required to perform an operation impacts what an organization is able to deliver. Furthermore, it effects what the company is able to help its clients achieve. Modern applications are data-intensive versus computing-intensive. The primary concern of technology companies is not only how to handle the amount of data created from disparate sources, but how to do so and continue to grow. The speed at which data is generated increases annually, and implementing the selection sort algorithm would allow a company to scale its operations. \n",
    "An organization must consider its architecture and the corresponding capabilities, so CPU and memory usage are key components of achieving growth. "
   ]
  },
  {
   "cell_type": "markdown",
   "id": "3c797e89",
   "metadata": {},
   "source": [
    "METHODOLOGY"
   ]
  },
  {
   "cell_type": "markdown",
   "id": "bd109d76",
   "metadata": {},
   "source": [
    "Five random arrays were generated using numpy from the pandas package in python. A list was created to store the array values of 5000, 10000, 15000, 20000, and 25000. For each array length, the execution time of the sort algorithm was appended to a list created to store the values for execution time. The simple sort algorithm was used only for its comparative value and will not be discussed in further detail. "
   ]
  },
  {
   "cell_type": "markdown",
   "id": "8055850d",
   "metadata": {},
   "source": [
    "ANALYSIS & RESULTS\n"
   ]
  },
  {
   "cell_type": "markdown",
   "id": "a8a1615c",
   "metadata": {},
   "source": [
    "The results displayed on table 1 show the execution time for the selection sort algorithm is significantly faster than the execution time for the simple sort algorithm. For an array of n = 5000, the simple sort execution speed is 1.536842 seconds and the execution speed for selection sort is 0.799483 milliseconds. Multiplying the array length by a factor of 2, n = 10000, the simple sort execution speed is 6.218913 seconds and the execution speed for selection sort is 3.145293 seconds. The graphic figure for selection sort displays the increasing execution time as array length increases. This represents the increasing number of operations needed to sort through the generated lists of varying array lengths. At an array length of n = 25000, the selection sort algorithm is twice as fast as the speed of the simple sort algorithm: the execution time for the simple sort is 38.724614 seconds and the execution time for the selection sort algorithm is 19.672355 seconds.\n",
    "\n",
    "\t\t\t"
   ]
  },
  {
   "cell_type": "markdown",
   "id": "0a0882c0",
   "metadata": {},
   "source": [
    "DISCUSSIN OF BIG O NOTATION\n"
   ]
  },
  {
   "cell_type": "markdown",
   "id": "8fa4e3f6",
   "metadata": {},
   "source": [
    "Big O notation for the selection sort algorithm is O(n * n) which is O(n^2). This means the elements in a list are checked n - 1 times after the initial sort. Each iteration then has one less value to count than the previous iteration. Since Big O notation accounts for time in the number of operations, the speed for selection sort increases with the number of items added to a list. This is an important consideration given the primary objective of optimal performance at scale. "
   ]
  },
  {
   "cell_type": "markdown",
   "id": "9a1b1c54",
   "metadata": {},
   "source": [
    "CONCLUSION"
   ]
  },
  {
   "cell_type": "markdown",
   "id": "0729a615",
   "metadata": {},
   "source": [
    "The execution speed of the selection sort algorithm is read in Big O notation given as O(n^2). As the number of items added to a list increases, the amount of time needed to sort through a list increases. If a company wants to achieve growth while remaining efficient in operations, it must consider the different implementations of data architecture and how the designs affect CPU and memory usage. How can a company serve the maximum amount of clients while not reducing its quality of service. The considerations then turn to service agreements and what can be delivered to the client. "
   ]
  }
 ],
 "metadata": {
  "kernelspec": {
   "display_name": "Python 3 (ipykernel)",
   "language": "python",
   "name": "python3"
  },
  "language_info": {
   "codemirror_mode": {
    "name": "ipython",
    "version": 3
   },
   "file_extension": ".py",
   "mimetype": "text/x-python",
   "name": "python",
   "nbconvert_exporter": "python",
   "pygments_lexer": "ipython3",
   "version": "3.9.7"
  }
 },
 "nbformat": 4,
 "nbformat_minor": 5
}
