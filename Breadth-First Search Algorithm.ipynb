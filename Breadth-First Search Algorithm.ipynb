{
 "cells": [
  {
   "cell_type": "code",
   "execution_count": 1,
   "id": "2020ee3d",
   "metadata": {},
   "outputs": [],
   "source": [
    "# Importing Packages\n",
    "import networkx as nx\n",
    "import numpy as np\n",
    "import pandas as pd\n",
    "import matplotlib.pyplot as plt\n",
    "import time\n",
    "%matplotlib inline"
   ]
  },
  {
   "cell_type": "code",
   "execution_count": 2,
   "id": "5722b307",
   "metadata": {},
   "outputs": [],
   "source": [
    "# Breadth-first Search Algorithm\n",
    "from collections import deque\n",
    "\n",
    "def search(name, find):\n",
    "    search_queue = deque()\n",
    "    search_queue += graph[name]\n",
    "    # This array is how you keep track of which people you've searched before.\n",
    "    searched = []\n",
    "    while search_queue:\n",
    "        person = search_queue.popleft()\n",
    "        # Only search this person if you haven't already searched them.\n",
    "        if person not in searched:\n",
    "            if person == find:\n",
    "                return True\n",
    "            else:\n",
    "                search_queue += graph[person]\n",
    "                # Marks this person as searched\n",
    "                searched.append(person)\n",
    "    return False"
   ]
  },
  {
   "cell_type": "markdown",
   "id": "be41c8fc",
   "metadata": {},
   "source": [
    "### 1) Create a five level 'connections' graph (all unique, no duplicates)\n",
    "\n",
    "- The first level should have five people and each person in first level should have five connections (they can be exclusive to one person or shared with other members on the same level, but all five should be unique, no duplicates)\n",
    "\n",
    "- Each person in the second level should have five connections (they can be exclusive to one person or shared with other members on the same level, but all five should be unique, no duplicates)\n",
    "\n",
    "- Continue the same for third, fourth, and fifth levels\n",
    "\n",
    "- There should be no reverse connections (i.e. first level can connect to second level but second cannot have any reverse connection with the first, and so on for 3rd, 4th, and 5th levels)"
   ]
  },
  {
   "cell_type": "code",
   "execution_count": 3,
   "id": "4b91c837",
   "metadata": {},
   "outputs": [],
   "source": [
    "#Creating Graph\n",
    "graph = {}\n",
    "\n",
    "#Level 1\n",
    "graph['A'] = ['B','C','D','E','F']\n",
    "graph['B'] = ['A','C','D','E','G']\n",
    "graph['C'] = ['A','B','D','E','H']\n",
    "graph['D'] = ['A','B','C','E','I']\n",
    "graph['E'] = ['A','B','C','D','J']\n",
    "\n",
    "#Level 2\n",
    "graph['F'] = ['G','H','I','J','K']\n",
    "graph['G'] = ['H','I','J','F','L']\n",
    "graph['H'] = ['F','G','I','J','M']\n",
    "graph['I'] = ['F','G','H','J','N']\n",
    "graph['J'] = ['F','G','H','I','O']\n",
    "\n",
    "#Level 3\n",
    "graph['K'] = ['L','M','N','O','P']\n",
    "graph['L'] = ['K','M','N','O','Q']\n",
    "graph['M'] = ['K','L','N','O','R']\n",
    "graph['N'] = ['K','L','M','O','S']\n",
    "graph['O'] = ['K','L','M','N','T']\n",
    "\n",
    "#Level 4\n",
    "graph['P'] = ['Q','R','S','T','U']\n",
    "graph['Q'] = ['R','S','T','P','V']\n",
    "graph['R'] = ['P','Q','S','T','W']\n",
    "graph['S'] = ['P','Q','R','T','X']\n",
    "graph['T'] = ['P','Q','R','X','Y']\n",
    "\n",
    "#Level 5\n",
    "graph['U'] = ['V','W','X','Y','Z']\n",
    "graph['V'] = ['W','X','Y','U','Z']\n",
    "graph['W'] = ['X','Y','U','V','Z']\n",
    "graph['X'] = ['Y','U','V','W','Z']\n",
    "graph['Y'] = ['V','W','X','U','Z']"
   ]
  },
  {
   "cell_type": "markdown",
   "id": "0c151c85",
   "metadata": {},
   "source": [
    "### 2) Now search for three people on each level and capture the time for each search."
   ]
  },
  {
   "cell_type": "code",
   "execution_count": 4,
   "id": "55bf1732",
   "metadata": {},
   "outputs": [],
   "source": [
    "# Searching level 1 of network\n",
    "level_1 = []\n",
    "for i in range(100):\n",
    "    start = time.time()\n",
    "    search('A', 'A')\n",
    "    end = time.time()\n",
    "    level_1.append((end - start) * 1000)\n",
    "    \n",
    "level1_time = np.mean(level_1)\n",
    "\n",
    "\n",
    "# Searching level 2 of network\n",
    "level_2 = []\n",
    "\n",
    "for i in range(100):\n",
    "    start = time.time()\n",
    "    search('A', 'F')\n",
    "    search('F', 'J')\n",
    "    end = time.time()\n",
    "    level_2.append((end - start) * 1000)\n",
    "    \n",
    "level2_time = np.mean(level_2)\n",
    "\n",
    "# Searching level 3 of network\n",
    "\n",
    "level_3 = []\n",
    "\n",
    "for i in range(100):\n",
    "    start = time.time()\n",
    "    search('A', 'F')\n",
    "    search('F', 'J')\n",
    "    search('M', 'N')\n",
    "    end = time.time()\n",
    "    level_3.append((end - start) * 1000)\n",
    "    \n",
    "level3_time = np.mean(level_3)\n",
    "\n",
    "\n",
    "# Searching level 4 of network\n",
    "\n",
    "level_4 = []\n",
    "\n",
    "for i in range(100):\n",
    "    start = time.time()\n",
    "    search('A', 'F')\n",
    "    search('F', 'J')\n",
    "    search('M', 'N')\n",
    "    search('S', 'T')\n",
    "    end = time.time()\n",
    "    level_4.append((end - start) * 1000)\n",
    "    \n",
    "level4_time = np.mean(level_4)\n",
    "\n",
    "# Searching level 5 of network\n",
    "\n",
    "level_5 = []\n",
    "\n",
    "for i in range(100):\n",
    "    start = time.time()\n",
    "    search('A', 'F')\n",
    "    search('F', 'J')\n",
    "    search('M', 'N')\n",
    "    search('S', 'T')\n",
    "    search('Y', 'Z')\n",
    "    end = time.time()\n",
    "    level_5.append((end - start) * 1000)\n",
    "    \n",
    "level5_time = np.mean(level_5)"
   ]
  },
  {
   "cell_type": "markdown",
   "id": "acdcb28c",
   "metadata": {},
   "source": [
    "### 3) Organize the results of the study into an table showing the 'name' that you searched for, the level of the search (first, second, third, fourth, fifth), and the time it took.  Discuss any findings."
   ]
  },
  {
   "cell_type": "code",
   "execution_count": 5,
   "id": "c1cf1798",
   "metadata": {},
   "outputs": [
    {
     "data": {
      "text/html": [
       "<div>\n",
       "<style scoped>\n",
       "    .dataframe tbody tr th:only-of-type {\n",
       "        vertical-align: middle;\n",
       "    }\n",
       "\n",
       "    .dataframe tbody tr th {\n",
       "        vertical-align: top;\n",
       "    }\n",
       "\n",
       "    .dataframe thead th {\n",
       "        text-align: right;\n",
       "    }\n",
       "</style>\n",
       "<table border=\"1\" class=\"dataframe\">\n",
       "  <thead>\n",
       "    <tr style=\"text-align: right;\">\n",
       "      <th></th>\n",
       "      <th>Level</th>\n",
       "      <th>Persons Searched</th>\n",
       "      <th>Execution Time</th>\n",
       "    </tr>\n",
       "  </thead>\n",
       "  <tbody>\n",
       "    <tr>\n",
       "      <th>0</th>\n",
       "      <td>First</td>\n",
       "      <td>A</td>\n",
       "      <td>0.001953</td>\n",
       "    </tr>\n",
       "    <tr>\n",
       "      <th>1</th>\n",
       "      <td>Second</td>\n",
       "      <td>F, J</td>\n",
       "      <td>0.002127</td>\n",
       "    </tr>\n",
       "    <tr>\n",
       "      <th>2</th>\n",
       "      <td>Third</td>\n",
       "      <td>F, J, N</td>\n",
       "      <td>0.002952</td>\n",
       "    </tr>\n",
       "    <tr>\n",
       "      <th>3</th>\n",
       "      <td>Fourth</td>\n",
       "      <td>F, J, N, T</td>\n",
       "      <td>0.003824</td>\n",
       "    </tr>\n",
       "    <tr>\n",
       "      <th>4</th>\n",
       "      <td>Fifth</td>\n",
       "      <td>F, J, N, T, Z</td>\n",
       "      <td>0.004890</td>\n",
       "    </tr>\n",
       "  </tbody>\n",
       "</table>\n",
       "</div>"
      ],
      "text/plain": [
       "    Level Persons Searched  Execution Time\n",
       "0   First                A        0.001953\n",
       "1  Second             F, J        0.002127\n",
       "2   Third          F, J, N        0.002952\n",
       "3  Fourth       F, J, N, T        0.003824\n",
       "4   Fifth    F, J, N, T, Z        0.004890"
      ]
     },
     "execution_count": 5,
     "metadata": {},
     "output_type": "execute_result"
    }
   ],
   "source": [
    "# Results table\n",
    "persons = ['A', 'F, J', 'F, J, N', 'F, J, N, T',\n",
    "        'F, J, N, T, Z']\n",
    "\n",
    "network = ['First', 'Second', 'Third', 'Fourth', 'Fifth']\n",
    "\n",
    "search_time = [level1_time, level2_time, level3_time, level4_time, level5_time]\n",
    "\n",
    "table = pd.DataFrame(list(zip(network, persons, search_time)),\n",
    "              columns=['Level', 'Persons Searched', 'Execution Time'])\n",
    "table"
   ]
  },
  {
   "cell_type": "markdown",
   "id": "28676662",
   "metadata": {},
   "source": [
    "### Discussion: \n",
    "#### As the algorithm searches the nodes and edges, it progresses to the second, third, fourth, and fifth levels of the network. This results in increased search times as the algorithm processes by order of first in, first out. Once, a person has been searched, they are marked as searched and the search moves onto the next person in the network. "
   ]
  },
  {
   "cell_type": "markdown",
   "id": "8f3bc359",
   "metadata": {},
   "source": [
    "### 4) Using the average time for each level, create a plot and compare times at each level (five bars or any other suitable visual).  Discuss any findings."
   ]
  },
  {
   "cell_type": "code",
   "execution_count": 6,
   "id": "f6647a76",
   "metadata": {},
   "outputs": [
    {
     "data": {
      "image/png": "[encoded data removed]",
      "text/plain": [
       "<Figure size 432x288 with 1 Axes>"
      ]
     },
     "metadata": {
      "needs_background": "light"
     },
     "output_type": "display_data"
    }
   ],
   "source": [
    "# Visualization of Results\n",
    "\n",
    "y_pos = np.arange(len(persons))\n",
    "plt.bar(y_pos, search_time)\n",
    "plt.xticks(y_pos, network)\n",
    "plt.xlabel('Level')\n",
    "plt.ylabel('Execution Time (In Milliseconds)')\n",
    "plt.show()"
   ]
  },
  {
   "cell_type": "markdown",
   "id": "aef340ca",
   "metadata": {},
   "source": [
    "# EXECUTIVE SUMMARY"
   ]
  },
  {
   "cell_type": "markdown",
   "id": "795896a9",
   "metadata": {},
   "source": [
    "### Introduction"
   ]
  },
  {
   "cell_type": "markdown",
   "id": "c7e9a7ee",
   "metadata": {},
   "source": [
    "This report analyzed the speed of the Breadth-first Search algorithm by executing a search on a network composed of five levels with five connections formed from five persons. A set of twenty-five names were created with each name being a node in the network, and each relationship being an vertice."
   ]
  },
  {
   "cell_type": "markdown",
   "id": "227c6788",
   "metadata": {},
   "source": [
    "### Breadth-first Search Algorithm"
   ]
  },
  {
   "cell_type": "markdown",
   "id": "e8346b30",
   "metadata": {},
   "source": [
    "The Breadth-first Search algorithm allows for the shortest distance between two objects to be computed. The algorithm works by searching a graph which represents a network. The network models a set of connections. This is stated as the network is composed of objects which are nodes, and of connections which are vertices. The Breadth-first Search algorithm searches the network by examining the network's nodes and vertices. The search is a function of two parameters. Is there a path from node A to node B? What is the shortest distance between node A and node B?"
   ]
  },
  {
   "cell_type": "markdown",
   "id": "baeb53c7",
   "metadata": {},
   "source": [
    "### Industry Application"
   ]
  },
  {
   "cell_type": "markdown",
   "id": "734fcfce",
   "metadata": {},
   "source": [
    "The Breadth-first Search algorithm is a commonly implemented solution in various applications. It can be used to find the shortest route during a trip, for instance, in GPS technology. It can also be used to find a value within a network. This would be in the form of a query within a social media network. The argument within a defined function would provide the parameters for determining a vertice's value within a network. The algorithm can be also used in artificial intelligence applications to determine strategic value of autonomous decision-making. Supply-chain networks make use of the algorithm to analyze shipping costs and finding the optimal transporation route for products.   "
   ]
  },
  {
   "cell_type": "markdown",
   "id": "999103c7",
   "metadata": {},
   "source": [
    "### Methodology"
   ]
  },
  {
   "cell_type": "markdown",
   "id": "e1e4de88",
   "metadata": {},
   "source": [
    "A population sample of twenty-five generated names were used to select a sample of six names across five levels of a network. For each person, the execution time of the Breadth-first Search algorithm was appended to five lists created to store the values for execution time."
   ]
  },
  {
   "cell_type": "markdown",
   "id": "5bb614be",
   "metadata": {},
   "source": [
    "### Analysis & Results"
   ]
  },
  {
   "cell_type": "markdown",
   "id": "b6464da4",
   "metadata": {},
   "source": [
    "The results displayed on table 1 show the execution time for the Breadth-first Search algorithm to be 0.001662 milliseconds when searching for one person on level one. On the second level of the network, the execution time for a search of two persons was 0.002236 milliseconds. The time increased through iterations on levels three, four, and five. At the level five, the execution time for a search of five persons was 0.005252 milliseconds. "
   ]
  },
  {
   "cell_type": "markdown",
   "id": "4324ce5a",
   "metadata": {},
   "source": [
    "### Discussion of Big O Notation"
   ]
  },
  {
   "cell_type": "markdown",
   "id": "3aa285f7",
   "metadata": {},
   "source": [
    "Big O notation for the Breadth-first Search algorithm is O(n+e), where n is equal to the number of nodes and e is equal to the number of edges. Since the algorithm searches every node in a network, the notation is O(number of nodes + number of edges). "
   ]
  },
  {
   "cell_type": "markdown",
   "id": "fe6c2447",
   "metadata": {},
   "source": [
    "### Conclusion"
   ]
  },
  {
   "cell_type": "markdown",
   "id": "235a2cdd",
   "metadata": {},
   "source": [
    "The execution speed of a Breadth-first Search algorithm in Big O notation is given as O(n+e). This makes it great for searching nodes and their relationships within a network composed of a few nodes or billions of nodes. It makes it a great algorithm to implement queries in graph databases or in organizational operations which rely on graph theory.  "
   ]
  }
 ],
 "metadata": {
  "kernelspec": {
   "display_name": "Python 3 (ipykernel)",
   "language": "python",
   "name": "python3"
  },
  "language_info": {
   "codemirror_mode": {
    "name": "ipython",
    "version": 3
   },
   "file_extension": ".py",
   "mimetype": "text/x-python",
   "name": "python",
   "nbconvert_exporter": "python",
   "pygments_lexer": "ipython3",
   "version": "3.9.7"
  }
 },
 "nbformat": 4,
 "nbformat_minor": 5
}
