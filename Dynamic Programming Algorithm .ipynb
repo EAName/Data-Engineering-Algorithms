{
 "cells": [
  {
   "cell_type": "markdown",
   "id": "e691a942",
   "metadata": {},
   "source": [
    "# IMPLEMENTING A DYNAMMIC PROGRAMMING ALGORITHM"
   ]
  },
  {
   "cell_type": "markdown",
   "id": "dac95cdd",
   "metadata": {},
   "source": [
    "### Boolean Parenthesization Problem"
   ]
  },
  {
   "cell_type": "markdown",
   "id": "c88450d4",
   "metadata": {},
   "source": [
    "### 1) Given a boolean expression with following symbols: \n",
    "\n",
    "Symbols\n",
    "\n",
    "    'T' ---> true \n",
    "    \n",
    "    'F' ---> false "
   ]
  },
  {
   "cell_type": "markdown",
   "id": "4179267c",
   "metadata": {},
   "source": [
    "### And the following operators filled between symbols: \n",
    "\n",
    "Operators\n",
    "\n",
    "    &   ---> boolean AND\n",
    "    \n",
    "    |   ---> boolean OR\n",
    "    \n",
    "    ^   ---> boolean XOR\n",
    "\n"
   ]
  },
  {
   "cell_type": "markdown",
   "id": "09d79359",
   "metadata": {},
   "source": [
    "### Count the number of ways we can parenthesize the expression so that the value of expression evaluates to true."
   ]
  },
  {
   "cell_type": "markdown",
   "id": "0d024e03",
   "metadata": {},
   "source": [
    "### The input will occur in the form of two arrays. \n",
    "\n",
    "- One array will contain the symbols 'T, F'\n",
    "\n",
    "- The other array will contain the operators '&,  |,  ^' "
   ]
  },
  {
   "cell_type": "markdown",
   "id": "92326739",
   "metadata": {},
   "source": [
    "### Solution: \n",
    "Let T(i, j) represents the number of ways to parenthesize the symbols between i and j (both inclusive) such that the subexpression between i and j evaluates to true."
   ]
  },
  {
   "cell_type": "code",
   "execution_count": 1,
   "id": "f59bac27",
   "metadata": {},
   "outputs": [],
   "source": [
    "#Dynammic Programming Algorithm\n",
    "\n",
    "def countParenth(symb, oper, n):\n",
    "    F = [[0 for i in range(n + 1)]\n",
    "        for i in range(n + 1)]\n",
    "    T = [[0 for i in range(n + 1)]\n",
    "        for i in range(n + 1)]\n",
    "\n",
    "\n",
    "    for i in range(n):\n",
    "        if symb[i] == 'F':\n",
    "            F[i][i] = 1\n",
    "        else:\n",
    "            F[i][i] = 0\n",
    "\n",
    "        if symb[i] == 'T':\n",
    "            T[i][i] = 1\n",
    "        else:\n",
    "            T[i][i] = 0\n",
    "\n",
    "    for gap in range(1, n):\n",
    "        i = 0\n",
    "        for j in range(gap, n):\n",
    "            T[i][j] = F[i][j] = 0\n",
    "            for g in range(gap):\n",
    "\n",
    "\n",
    "                k = i + g\n",
    "\n",
    "\n",
    "                tik = T[i][k] + F[i][k]\n",
    "                tkj = T[k + 1][j] + F[k + 1][j]\n",
    "\n",
    "\n",
    "                if oper[k] == '&':\n",
    "                    T[i][j] += T[i][k] * T[k + 1][j]\n",
    "                    F[i][j] += (tik * tkj - T[i][k] *\n",
    "                                T[k + 1][j])\n",
    "                if oper[k] == '|':\n",
    "                    F[i][j] += F[i][k] * F[k + 1][j]\n",
    "                    T[i][j] += (tik * tkj - F[i][k] *\n",
    "                                F[k + 1][j])\n",
    "                if oper[k] == '^':\n",
    "                    T[i][j] += (F[i][k] * T[k + 1][j] +\n",
    "                                T[i][k] * F[k + 1][j])\n",
    "                    F[i][j] += (T[i][k] * T[k + 1][j] +\n",
    "                                F[i][k] * F[k + 1][j])\n",
    "            i += 1\n",
    "    return T[0][n - 1]"
   ]
  },
  {
   "cell_type": "markdown",
   "id": "a4016acd",
   "metadata": {},
   "source": [
    "### Discussion:\n",
    "A grid is created by using the values of the symbols \"T & F\". If symbol[i] is 'T' in T[i][i], then all diagnol cell values are 1. If symbol[i] is 'F' in F[i][i], then all diagnol cell values are 1. For T[i][i], if symbol[i] is not 'T', then the values are 0. For F[i][i], if symbol[i] is not 'F', then the values are 0. This allows for the  problem to be evaluated by the subexpression between i and j. The symbols are variables of the expression, and the atomic values of the subexpression can be found by use of the operators. The algorithm uses dynammic programming by evaluating the numbers of ways to produce a true value given the contraints of the values of symbols and their interaction with operators and resulting expressions. "
   ]
  },
  {
   "cell_type": "code",
   "execution_count": 2,
   "id": "00b7c907",
   "metadata": {},
   "outputs": [
    {
     "name": "stdout",
     "output_type": "stream",
     "text": [
      "4\n"
     ]
    }
   ],
   "source": [
    "#Scenario 1\n",
    "symbols = \"TTFT\"\n",
    "operators = \"|&^\"\n",
    "n = len(symbols)\n",
    "print(countParenth(symbols, operators, n))"
   ]
  },
  {
   "cell_type": "markdown",
   "id": "584ddaa0",
   "metadata": {},
   "source": [
    " p v q \n",
    " \n",
    " p = Not ~p\n",
    " \n",
    " P = T F\n",
    " ~p = F T"
   ]
  },
  {
   "cell_type": "code",
   "execution_count": 3,
   "id": "5cd85470",
   "metadata": {},
   "outputs": [
    {
     "name": "stdout",
     "output_type": "stream",
     "text": [
      "5\n"
     ]
    }
   ],
   "source": [
    "#Scenario 2 \n",
    "symbols = \"TTTF\"\n",
    "operators = \"|&^\"\n",
    "n = len(symbols)\n",
    "print(countParenth(symbols, operators,n))"
   ]
  },
  {
   "cell_type": "code",
   "execution_count": 4,
   "id": "72f394af",
   "metadata": {},
   "outputs": [
    {
     "name": "stdout",
     "output_type": "stream",
     "text": [
      "2\n"
     ]
    }
   ],
   "source": [
    "#Scenario 3\n",
    "symbols = \"TFTT\"\n",
    "operators = \"|&^\"\n",
    "n = len(symbols)\n",
    "print(countParenth(symbols, operators,n))"
   ]
  },
  {
   "cell_type": "markdown",
   "id": "5fe5bfcf",
   "metadata": {},
   "source": [
    "#### Let F(i, j) represents the number of ways to parenthesize the symbols between i and j (both inclusive) such that the subexpression between i and j evaluates to false."
   ]
  },
  {
   "cell_type": "code",
   "execution_count": 5,
   "id": "cbbe89f3",
   "metadata": {},
   "outputs": [
    {
     "name": "stdout",
     "output_type": "stream",
     "text": [
      "0\n"
     ]
    }
   ],
   "source": [
    "#Scenario 4\n",
    "symbols = \"FFTF\"\n",
    "operators = \"|&^\"\n",
    "n = len(symbols)\n",
    "print(countParenth(symbols, operators,n))"
   ]
  },
  {
   "cell_type": "markdown",
   "id": "1cffa0aa",
   "metadata": {},
   "source": [
    "# EXECUTIVE SUMMARY"
   ]
  },
  {
   "cell_type": "markdown",
   "id": "9d4be663",
   "metadata": {},
   "source": [
    "### Introduction"
   ]
  },
  {
   "cell_type": "markdown",
   "id": "81d04b9d",
   "metadata": {},
   "source": [
    "This report analyzed the Boolean Parenthesization Problem and finding its solution, for the provided values of symbols, and how those values change given the input of operators. A dynammic programming implementation was used for finding the optimal soution to the problem."
   ]
  },
  {
   "cell_type": "markdown",
   "id": "d09cc987",
   "metadata": {},
   "source": [
    "### Dynammic Programming Algorithm"
   ]
  },
  {
   "cell_type": "markdown",
   "id": "706976bb",
   "metadata": {},
   "source": [
    "The attributes of a dynammic programming algorithm are the use a grid to determine the items and their associated values in the problem. The grid allows for the value of a cell to be determined while being able to identify how to divide the problem into subproblems. Additionally, identifying the axes allows for the approach to be dynammic programming or a recursive function. In this report, a bottoms up approach to filling the grid is implemented. The bottoms up approach identifies if the subproblem has been solved. "
   ]
  },
  {
   "cell_type": "markdown",
   "id": "1aa1e48a",
   "metadata": {},
   "source": [
    "### Industry Application"
   ]
  },
  {
   "cell_type": "markdown",
   "id": "7529fec7",
   "metadata": {},
   "source": [
    "Dynammic programming can be applied in data engineering to solution a partioning problem for optimal performance. It be used in networking to determine the longest path from one node to another. It can also be used in subsequences to determine its length and scheduling associated tasks. "
   ]
  },
  {
   "cell_type": "markdown",
   "id": "d00c03a8",
   "metadata": {},
   "source": [
    " ### Methodology"
   ]
  },
  {
   "cell_type": "markdown",
   "id": "770dcece",
   "metadata": {},
   "source": [
    "To determine the optimal choice of symbolic values, two arrays were created. One array included the symbolic values of 'T' and 'F', and the other array included the operator functions of '&','|', and '^'. The number of symbolic values used were four while the number of operator functions used were three."
   ]
  },
  {
   "cell_type": "markdown",
   "id": "19ef9cef",
   "metadata": {},
   "source": [
    "### Analysis & Results"
   ]
  },
  {
   "cell_type": "markdown",
   "id": "dab3bac3",
   "metadata": {},
   "source": [
    "In scenario 1, the order of symbolic values was \"TTFT\". This produced four ways to generate a global truth value from the atomic values of the symbols and the operators. In scenario 2, the order of \"TTTF\" symbolic values produced five ways to generate a global truth value. Scenario 4 arranged the symbolic values as \"TFTT\" and generated two ways to produce a global truth value. In scenario 5, the order of \"FFTF\" generates zero ways to produce a global truth value. "
   ]
  },
  {
   "cell_type": "markdown",
   "id": "6af09802",
   "metadata": {},
   "source": [
    "### Discussion of Big O Notation"
   ]
  },
  {
   "cell_type": "markdown",
   "id": "efe3781f",
   "metadata": {},
   "source": [
    "Big O notation for the Boolean Parenthesization Problem is O(n^3). This is the growth rate function of the upper bound given N inputs. However, as N increases, the time complexity remains constant at a rate of O(n^3). "
   ]
  },
  {
   "cell_type": "markdown",
   "id": "fab4b8a8",
   "metadata": {},
   "source": [
    "### Conclusion"
   ]
  },
  {
   "cell_type": "markdown",
   "id": "ed9411f5",
   "metadata": {},
   "source": [
    "Dynammic programming is a technique which examines the subproblems of a global problem to produce an optimal solution. It deconstructs the problem down into similar subproblems and reused the solution to arrive a global optimal solution."
   ]
  }
 ],
 "metadata": {
  "kernelspec": {
   "display_name": "Python 3 (ipykernel)",
   "language": "python",
   "name": "python3"
  },
  "language_info": {
   "codemirror_mode": {
    "name": "ipython",
    "version": 3
   },
   "file_extension": ".py",
   "mimetype": "text/x-python",
   "name": "python",
   "nbconvert_exporter": "python",
   "pygments_lexer": "ipython3",
   "version": "3.9.7"
  }
 },
 "nbformat": 4,
 "nbformat_minor": 5
}
