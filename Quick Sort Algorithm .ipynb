{
 "cells": [
  {
   "cell_type": "code",
   "execution_count": 1,
   "id": "3cfd8248",
   "metadata": {},
   "outputs": [],
   "source": [
    "#Import Packages\n",
    "import numpy as np\n",
    "import pandas as pd\n",
    "import datetime\n",
    "import random\n",
    "import time\n",
    "import string\n",
    "from matplotlib import pyplot as plt\n",
    "from iteration_utilities import unique_everseen\n",
    "from iteration_utilities import duplicates\n",
    "%matplotlib inline\n",
    "VERBOSE = False\n",
    "SEED = 213\n",
    "random.seed = SEED"
   ]
  },
  {
   "cell_type": "code",
   "execution_count": 2,
   "id": "2fcfd750",
   "metadata": {},
   "outputs": [],
   "source": [
    "#Base Code from book\n",
    "def quick_sort(array):\n",
    "  if len(array) < 2:\n",
    "    # base case, arrays with 0 or 1 element are already \"sorted\"\n",
    "    return array\n",
    "  else:\n",
    "    # recursive case\n",
    "    pivot = array[0]\n",
    "    # sub-array of all the elements less than the pivot\n",
    "    less = [i for i in array[1:] if i <= pivot]\n",
    "    # sub-array of all the elements greater than the pivot\n",
    "    greater = [i for i in array[1:] if i > pivot]\n",
    "    return quick_sort(less) + [pivot] + quick_sort(greater)"
   ]
  },
  {
   "cell_type": "code",
   "execution_count": 3,
   "id": "ab8e115d",
   "metadata": {},
   "outputs": [],
   "source": [
    "#Bubble Sort\n",
    "def bubble_sort(xlist):\n",
    "    n = len(xlist)\n",
    "    \n",
    "    #Traverse array\n",
    "    for i in range(n):\n",
    "        # Last i elements are already in place\n",
    "        for j in range(0, n-i-1):\n",
    "            #Traverse array from 0 to n-i-1\n",
    "            #Swap if element found is greater than next element\n",
    "            if xlist[j] > xlist[j+1]:\n",
    "                xlist[j], xlist[j+1] = xlist[j+1], xlist[j]\n",
    "    return xlist"
   ]
  },
  {
   "cell_type": "code",
   "execution_count": 4,
   "id": "fa18f85f",
   "metadata": {},
   "outputs": [],
   "source": [
    "#Insertion Sort\n",
    "def insertion_sort(xlist):\n",
    "    # Traverse list\n",
    "    for i in range(1, len(xlist)):\n",
    "        key = xlist[i]\n",
    "        # Move elements of array[0..i-1] that are greater than key,\n",
    "        # one position ahead of their current place\n",
    "        j = i-1\n",
    "        while j >= 0 and key < xlist[j]:\n",
    "            xlist[j+1] = xlist[j]\n",
    "            j-=1\n",
    "        xlist[j+1] = key\n",
    "    return xlist"
   ]
  },
  {
   "cell_type": "markdown",
   "id": "cdbb3c7c",
   "metadata": {},
   "source": [
    "### 1) Set up five lists of randomly generated strings of characters (i.e. a-z or A-Z e.g. abcdefkjklkjlkjlkjkljlkjlkjlkjkljasdfgtredghjkiuyt). Each string should be 50 characters long. The first list should have 200 strings (each string should be 50 characters long), second should have 400 strings (again each string is 50 characters), third 600 (same length strings i.e. 50 characters), fourth 800 (string length continues to be 50 characters), and last/fifth 1000 strings (yes 50 characters in each string). "
   ]
  },
  {
   "cell_type": "code",
   "execution_count": 5,
   "id": "febe6e6b",
   "metadata": {},
   "outputs": [],
   "source": [
    "#Function to generate string of characters\n",
    "def generate (length):\n",
    "    x_list = []\n",
    "    for j in range(length):       \n",
    "        x = ''\n",
    "        \n",
    "        for i in range(50):\n",
    "            randomLetter = random.choice(string.ascii_letters)\n",
    "            x = randomLetter + x\n",
    "            string_lower = x.lower()\n",
    "            \n",
    "        x_list.append(string_lower)\n",
    "        \n",
    "    return x_list  "
   ]
  },
  {
   "cell_type": "code",
   "execution_count": 6,
   "id": "54da5f25",
   "metadata": {},
   "outputs": [],
   "source": [
    "#Five randomly generated strings of characters\n",
    "string_200 = generate(200)\n",
    "string_400 = generate(400)\n",
    "string_600 = generate(600)\n",
    "string_800 = generate(800)\n",
    "string_1000 = generate(1000)"
   ]
  },
  {
   "cell_type": "markdown",
   "id": "2d9afbc0",
   "metadata": {},
   "source": [
    "### 2) You may use the code we used in previous homework assignments.  Make sure the list is unsorted and does not contain any duplicates."
   ]
  },
  {
   "cell_type": "code",
   "execution_count": 7,
   "id": "665007d2",
   "metadata": {},
   "outputs": [
    {
     "data": {
      "text/plain": [
       "['rywesdztsvxqehxmbovrrlxpulucdmovakhvixokmohxsizuyg',\n",
       " 'zgzzyjqswhbfogduvznwvbdehaxpxboqkiqvgpeiddsltthbty',\n",
       " 'ynjcdsqahkthopytwsbmntiudmateeoibxhbnxbohehrgvsvci',\n",
       " 'drdfutsqeeteaevucsehqtnjtgztuztetmrdfryippwolevdqu',\n",
       " 'kckkhcjyiunowsxuvcxqgkcmjabbdywolbpuzysmkusiilqvkn',\n",
       " 'yxnwtpvhpnyytalqwfobzaxhtybovltiqwjtbrncvwrzdpqvgs',\n",
       " 'snmdlhzszkujuszkiuxrglghhstfzlphtinbegeiqvwwmdkezd',\n",
       " 'kmmlfkvbxhdtuzjzgzhkyikitywftarciskvsmpzmzzjylixug',\n",
       " 'qjpfoolsskqyuoeqmvwafcmdpmbhhiwksbzhgtpsecgejlduvj',\n",
       " 'fyykznwvmpizapipmqbocuzqodurhatlagpdbnbecspbbysthp',\n",
       " 'zqilzoleiciaixwrxprewvmaebflndtpvrzwcvzxhnlkgarjsc',\n",
       " 'hyktyqcxwkgqsbgtgrrkdqkiwijufwislcxtpssciiivoeaonl',\n",
       " 'kojevvosegzxnjkchgplqltugpxijikjgybnsxsoheynexotdz',\n",
       " 'zakxwhaujsvynqfgjyzvlhntctpgtxwhcnezgpwhwygmcfggus',\n",
       " 'oyskjbbojcjqwysxtxtmeleuafovplffidiiizabdysmcbyxtv',\n",
       " 'encuewhbvzmfnikoqslokpmzdwfgkbjmggpngpbmacjppbwsdh',\n",
       " 'uzjjzixmboqkdcefuceeerdydbxcitfbmqgjicmoqkrlloeyaw',\n",
       " 'sjqgcmqwpluurmqlvobsxogckfqkilenxiqxvldypaezwzsnot',\n",
       " 'kufozliumefyxaisckctbqyfrnkwfomfecpexfyfhcnjvtokvg',\n",
       " 'bpfzagxhdyrdfxsrhyrzycqlffbfeqtkgmaxvjdmezddkpjjpg',\n",
       " 'ujuwhafsamtrlwhgqhvydcnqajyiyznfekquxoapghhnqkcnpj',\n",
       " 'mtvifseqivjgzedenzdfeentpybthosirodkauwxqxajjftopm',\n",
       " 'azyovssuitxmncpjnfkcgzfehdvmrygttufnpgohsjyqgrhsyv',\n",
       " 'yjioqiwrqxcleoyhjfqqehzvvafhwwjvwfaoqapbqildjdfgta',\n",
       " 'dmunmconiznqmcmbbispxmpkaborvplqmqtjgvzawmghfkqsqq',\n",
       " 'qgbyrcghhybckozjzgtrhydwzehogmeafgbzgnxbcrlbahflpc',\n",
       " 'fagkhhvpbcxpkkhejyoxustxtwlnscrruhowuqmbxrelhutzhg',\n",
       " 'pbjzifjgvrbamulguusasoksolgayqugtsceuetxthoojoqcbc',\n",
       " 'gybxyvrfwvagywsgdwmzyaelybmyjikuyukaoofmdeqnoqzhpc',\n",
       " 'inaflnomfdpuylasiraftlkijaixoscvhlcmvqplsideiioxzn',\n",
       " 'gnmxxkuxcqhwoznmyinfdagbpcbzaaaoydzzsgeuqbdrhnxjew',\n",
       " 'pripmwctgbnqnefymaflgwqjsyshwjzhnehyjarizymzfpiqmm',\n",
       " 'rbilpfhcrhegpvfhgnnvocicgcgnlnzukawrftafijsytfipdd',\n",
       " 'duvfjgldrtncsitlqfesjpnntzhbiynfatpmnnnqzmkabhazdx',\n",
       " 'dpsichyyxhwtecwisongjqcbmyrytdeqnjceyakytpndbndrhw',\n",
       " 'zujxiwampwichunkkvuxkegwdrvpiuwrovyddjajnbqwktxupj',\n",
       " 'mbzhgwlkmbjjrzgpqzzvvkgqaqctlxfpeyvlglnzoqvzofzemt',\n",
       " 'hmgyxgfqvepxrvxybgkjdgwoeumsjwnvzvhijauvrubqojxsao',\n",
       " 'aqmmocahtdkzxcjjikaaedbewhfoxfzakvmmmeoqppdjwmkbpe',\n",
       " 'ktwbtfajksusmspplwufmkvrxerlfozdnlpiudfoxcctselnlg',\n",
       " 'hibleoakiygkeqkejhcfyezwtrppxanjoxffjjdbibkhlkpbce',\n",
       " 'ednrxvpfojhduqroekczqczeustlxtxfllnokrkteyjaqmhuit',\n",
       " 'yzkionkevcteabjwenlhmjjvzxvqtbanuhyxbfvkmklqnyqwcs',\n",
       " 'jkyyarmwasvuntpllumsbfnxyrtoriiwxkttsxmsitxdobobfq',\n",
       " 'kmxgkwhkjqaggiyypyoerxxtqncwospatxqvrvlzbzcjynakzd',\n",
       " 'vjpydkllslvunnzvgvkisatxvphckvvgdaitfattwwpqpzixgv',\n",
       " 'vsyvhvsozijyltgxnihklzicurvfooolxkdmrqniyczpzbiphh',\n",
       " 'ezarbcjnrypamsybyadlzqfhmkewqsffigdyhuqimgqnlpbixp',\n",
       " 'bjlpkmolpnadqlsglglsogalzmldxxloyzdkrijdakkcrcfndt',\n",
       " 'gwdcoizpuagcthzdfckmwnvdcjhkfnsvnahnhcsekytcepghlp',\n",
       " 'ygbbgwcalxrfdlawejfbuisfrrqwvumifpifrivffbqplhaesa',\n",
       " 'zbrhtjnoozhymztznygcevjnoolhyvwlxpzxgcasmxkoqewyqn',\n",
       " 'vwnvtsndwtifcijfwiddwrpklfcvvqestrdqazfkvmaflnvqyn',\n",
       " 'szovocbdljqhvznnymguwsasvyieulwffufwdsiasyyppnntlj',\n",
       " 'otynkxzjqcgkxiwsrsbuvkucpfiatmjvzhfjwxuqnbutobryra',\n",
       " 'mbceylnvyekogwokkngzxelkfaszrsyrqihobmyfjaoasrhpxs',\n",
       " 'gxpqshyueiywjwenzacbwvcpdovqmlnrgmmduzwkdgrpddcaig',\n",
       " 'tnvqqgxrktxnjacyzkidkgxfllelrzjryftcpzkeiwqwhlrlky',\n",
       " 'tynslisyykzpgchlzbzhvqecpqtgnnanjwxqsazsbnrxjvgqlj',\n",
       " 'ieqzvownycfdhbjikgaizavarlvirkvsjzyqydhlxpulttsvti',\n",
       " 'jyeubeksvtchcoklvcmhwxmxnpkwgmcqtorznsvgflnjzmfrxp',\n",
       " 'bhhqklhxfjcfsegljoojdnqmbdsuorhbsfxtzgawpmjladscyn',\n",
       " 'hcwtoxsvopdaunksrwbwjlgkweqfxhcxitgpjuzxuyulfoszbe',\n",
       " 'pcrdmtkcpoycivjcwhteawvuwcbtafigbazhzgsqrbidjakteg',\n",
       " 'aiqsjqvpszotsiytgrubuhvesrwavrpuhipduxnxgsfmwpwuwx',\n",
       " 'bbalulvmcmhymmmhbaqmpwzwkxnfnmjalalyxrbtabogwmxkat',\n",
       " 'uoiscxezmrnfadqpypdigxnyvyglhsaegyxpxexngzgzbjawvm',\n",
       " 'rangnszxvfomqhadqzapptusjurywczdexcapgymagyxakxhvm',\n",
       " 'yaoffdadrxkrnyqfcnpwxuvbkbrnujntxdmryvriwireuyiudf',\n",
       " 'xetfpnmfmbcbcovrqztkzbrffczwyedpfeuusrwnifabbptzak',\n",
       " 'wuoliluyqrtgbjhsozoamemkcoezmbgmiqiledmuagaoosredd',\n",
       " 'dmfjpklwsyksxmvndkdonoaitgzffjxdodcztrchzmqhwnocnb',\n",
       " 'svqsicwgangfobrcsbliqrpbgjufwyspurzooldhjbcqsqqvnb',\n",
       " 'rmeywcnpbwtujjwdtbuoegzxfjfmuvdolpjahzcjaohveepigw',\n",
       " 'myinasvckatdbkxmeoofosztridcghtyfarcuogrmtjzkkwkoe',\n",
       " 'rkzkxifcbzswitmhmlipuxnraubqhsxwwnogneligdamfidynf',\n",
       " 'szqdnvroobmyelbawhrmeimbbokescziisziwamrxkubyzlmus',\n",
       " 'zxzcydnrqmriwuxurmgjnfnkhilzogpirbhdsoylfffuctcmwt',\n",
       " 'waruftkeuwnlfbjamqotzhomhfaycyqhwxeqvkyohmvoeivbbl',\n",
       " 'naoxncfmnrbwdsvamokyxrrnswgelcbxhhetkrggrxlxhbmpag',\n",
       " 'qkwtxbsadegsnvqhyxdmcgwirjsccwfmasvmbzkeszhmtgcoji',\n",
       " 'irmbkvgxznctqmwskecpebgktqvmgdqrtiyzxlkvlwsvqztoen',\n",
       " 'miippdpxqqnpmeejrkafoonlosnqkbtirttrpiegjdxhmilquo',\n",
       " 'tojksthhvtoyxarfjtglupfpoeibryxzyapqdorzbpvvcaelxj',\n",
       " 'mzbjimlkjaonljzzqritsgyxoznghncuhepaxzvqlgbkpnzwvj',\n",
       " 'whblpoywudttidhdrrspdppypowzqlhatjuxyqgfbghekgegzt',\n",
       " 'zuhvdgigfmdiqofelgxswtkogehniymtgqeyokvosppuccnczz',\n",
       " 'rofcckbtefqdhomnhwqntbrlgizsmxiltwsrkymqvbvqcgnigg',\n",
       " 'luajubacfnnjgmmmvybwclkkjwhcitbuzemmxnsuuoblfzalzt',\n",
       " 'vqjwfhnogxujuvuozwhitjoaxcehivqbhjfraoavbbenmjffow',\n",
       " 'dbrmyntjemjwrfvcinwuadbcsjberdvivwjyovxrcallxlyzig',\n",
       " 'qqsrvzzlqvdmlryrgpbamjfhpzaqgymxhiylxybchsqkbqvkzy',\n",
       " 'zhgiczpzwzzezoegozlimenqbjgjiuczfyhtosrdobpnjdkkat',\n",
       " 'mzpfxjcsynxjhsnyehwzbiuobtrcgftspvewvalxgtvikpejdn',\n",
       " 'mamusaoundyasfcjqowjlppzorsbjsmbwqzdrbzgjpqoywnslm',\n",
       " 'xiyoliyqcnmkykorqgzsjavpsrehebeelvzcacdqwnrqpbxfpw',\n",
       " 'jonpkgvqbptjgkjborxybtmfukdymdklechvpbtbtryadywxqc',\n",
       " 'cpfbzctyuekqgizkwfypawhqissifhpnjcbimzjxvhbdkxnkvw',\n",
       " 'vzxoyfpvdyxufeadivnfqxfknbdbdqsexrdlaxsanyxqjlduea',\n",
       " 'xcgwvidvqhdoukaquxstbvdasmviviyirrlcencalfafrwdubu',\n",
       " 'dmtnmhggbdhozhrnmwepyudayffjvvggzkktollukcruevhqak',\n",
       " 'bqceuavekcjhmyletimzeyupoabunkihsejaemekwcdgkbzxrb',\n",
       " 'pwxchnzfehazxrypakuwwlchpwbogkkhsibthpdtayuckxcide',\n",
       " 'diynjuvjvlnjqrverfzcttqguzlkfyxveowlwcjcusjyhqciya',\n",
       " 'izpzydkzcfkjwugfnlupcujwjbbjwyhgqxcvueetthtabpvjqo',\n",
       " 'yfxpxsnjwvxqyqkrnpzjkwsxroyljuwhnervfwkmvgvkzoiqyz',\n",
       " 'ddiuojzocxxjmrjtcqojztmfhrcfhwxgccmxmautpavgsxchcz',\n",
       " 'wtgnwcodubajulotbsqldjqqprtfkprfhgymsnozgxkoeuoqyi',\n",
       " 'brpftameveewvsuqtcruktbzsvntntwirxclvaszvpkdebkjao',\n",
       " 'igtgdeguwyhessgfksjusqwxelzqfwfkmgwngsmsskjnqorqsm',\n",
       " 'atwzhnchcwmuqkvbgtrsdivwczieknsnhfuszzpykxpnttxcbk',\n",
       " 'jcozxhiduzfjepypnjhcnjwygmyijnzohldojslektcanhdkuu',\n",
       " 'iyycqmskmtnsetlnxrdbtqmfeddmdlbmfjqnhvawbousdzuozb',\n",
       " 'dpddeiyewfrhrpqtghuuqlussnzdyadycmxwqhmvvujvhwfqis',\n",
       " 'jrewpzxjqzqeqgsltrcefyuoizjumxqsvzfmxaulpgggtpleef',\n",
       " 'pfjxfommudgxhjqqnvbzibfduclngavyvmmrjvkogwqwrhucju',\n",
       " 'ftakjrtrozbuojsdqlvontvduhioktbxeeaoksxrrolehposjf',\n",
       " 'zjyvonyuikmrjsuigaijvefsqiftsijikvqawxenviqjitcsje',\n",
       " 'vxigdayhujmekkdqjhktnmihgbwgxsevfbtkkflhykpocnsxve',\n",
       " 'bermijfjarhvufcsvlyinjbnifnskdavwfisaoyvqowkrigpmv',\n",
       " 'ohzjyhksqzhgvomiilxonmalmppudghioifpmyabnhddpmetxk',\n",
       " 'uuavloujjszfwwkwsvscbmbvqqpgiyjopkzdnfycaemccmbybi',\n",
       " 'vbcigmmruyyksoxyodtcpmbsjcpsqozuecwhgtluweppzcwise',\n",
       " 'ewzztjwabpbialiyocltbjtlvmpcrsvyqmpbbsvzctzcxmlyug',\n",
       " 'xscaoarzohnnnoozvehlpoycyemgvrgwsdyeloqdepjxsichlg',\n",
       " 'uywpirihcuqaldwiluaemeuhrkbdgbvywzelsbtgiuhmrehrce',\n",
       " 'wairzysclgyxxktnzblmerbzepvdlpqmevujvirfaxblcwinsa',\n",
       " 'fucvgtptduvjppzirgjigccxiqfxmhdyrmybctotgistvpbgdw',\n",
       " 'ntokorhmhtrqcfptbzvtxiihwnwinjowvomsafhbxfuyouxchs',\n",
       " 'idvrisauntwqwcomjdknitftgbpfqtjxtwwwasmvhjmcbpksgm',\n",
       " 'hntvyazktxxjukwaxddgjbmuewlsgcxnlbbxsrsndguwbajpav',\n",
       " 'ryqlzbvsqbcrwuxorqibqqlkudgprqurcmsxbftetbczjmfkcy',\n",
       " 'iysidkxvglmchlbkhplpuphpqqacekswdgbdcbenkpylcognig',\n",
       " 'advifokcyxnacjqqbjzegktnvhjjchipyaawrfrqhsyfdgvghj',\n",
       " 'fmmhfkwhlgsoeqwcwibchynxgthfwvygucjwvrfrdzabqnrsgw',\n",
       " 'jfuvvspdsccpeqdkzggyvudxhlseezbqugglsxczchqyydvurr',\n",
       " 'pfskdoxzqwehyrapfxzhlnwryfhgxdgyuiimkxobijfxlkwnsc',\n",
       " 'prpdheinqwqcxcabzuhwurveslecykxcvtyznipfzixcsukzef',\n",
       " 'ncnuyobuwpvkslzoijhkxmczrqdfvbibqvsozxbghzxwyxiret',\n",
       " 'zcahyscdveiqwamdbhgnplojkxfackdkspaxtcbdjblxpazzur',\n",
       " 'cwdumnpcbilzukjbfoocowtxcldscmyrfkumuzczrircexksoe',\n",
       " 'lwwbydekwvqanlabyiqqrzsvswfudwqzixddkshiixueseainu',\n",
       " 'wqiacfqhpgmuvatcfgzpryihuoatrmkjqlqfehzenidtxdwsiq',\n",
       " 'knzlqypllqkjrgpjxfxavohmkjkskvrddzarhqppijomugwzal',\n",
       " 'fkzneaeqtlvybfeeokyvmrpxgedcywfvlmyufufadfbgftntoh',\n",
       " 'irbqwruqgorxmvkdnxrsemxrbgkdichaklgggmcdxqnbcxxrhe',\n",
       " 'kdxweobalzhsxjkdoertxialcascvjyajqkhsvhnzwslhenoff',\n",
       " 'lhcalbvrloolsvwxvocstwtducclwrfwbpskxslxfrallbakwo',\n",
       " 'bcvuefpzmonbvvwphjmewuqgkgefzkhocgjqwjzknxycxasned',\n",
       " 'bnxppewyejfjlzhqezpzzizkwkqjfgciwkqyxwtrecahyoruul',\n",
       " 'fjzepmqaquxogfoflcldxkejywnfainguziwpcodjxomgoiuqf',\n",
       " 'afluccefkvrediwummwgrskmllfswhdfoouxosinlodgsqbbwz',\n",
       " 'skbecpfxuftjlhyktmtucthmngzifupnfqbojaafyozcrqhvph',\n",
       " 'oaipxkwyrrcfjtufupaclugthtjanydmtdbrfqcmyzjfqotbfw',\n",
       " 'gqczbxefdsnnxnbilikgvfjsivvijtnlunrvbvuouivnnroneh',\n",
       " 'applrdncjaxtpvvogyremjtdfhgpxtwyfymfxossonisiraapv',\n",
       " 'jlhtqfeolmdjojvpsyyjuqcxpgehaknplotynaefrgtfvfseam',\n",
       " 'khrqrokjhkobruizzjlujxmfdydeugcbbuobavpwbnrnrkgagu',\n",
       " 'drczeydmzybvfmbgqdzvqlfndovpsdlfleedomdvayleqstjur',\n",
       " 'hjwridqdhpcgnafhifsjgqoeeinqoerxkjseigaybbltkjalzh',\n",
       " 'fsrccgkprenjtlcdkngguqtrdpwabagihiiqnbsjqpgvwslqei',\n",
       " 'jwsinlcmavspckzijpowhtpirgwaieqtcyykaabwuopypbhbxg',\n",
       " 'tiuwyxhpwethbhnkuhoibkpfllhmrsmtbqmxzwzdsthbimszrv',\n",
       " 'zuawevyyvhnfhebglwbizakeahoirbxwdcrpjqzjctpzxiqqnt',\n",
       " 'vgobluttzcgyoxffxkiqxhctrxmedynqdmmyyotesjpfszwiwt',\n",
       " 'ccuxqkkqoprwdmtiekzttvttizzrckkstpkreritcfnrmmdgrq',\n",
       " 'cohdqxovtvmikpnsnmcxofzpqivqgfehbvtoigkaeurilovynq',\n",
       " 'eaapsntccmhoelaavijufpakhitjukgdtmjbkjfxagwcimfqjg',\n",
       " 'yzattqdgblkugckalcxghwumdwcjvovpmhvmlnlcdsskgbpdeh',\n",
       " 'owvffwgfltcsoiybkiltzlrufebwovekkrtjjmdmwtbdsdxlry',\n",
       " 'gbeffqcwuukjkwfbohlplmonlyyoxujrjgjqwnaziqjpchxzvc',\n",
       " 'sbqpzxpslcvqasmezxnbuyiuacsbnyuveebuljzuftiumptigv',\n",
       " 'pzsozsaybenfbkcnllbjxxprwzrifjzkniobjkaoqxlomixfvh',\n",
       " 'gkxmloruqqlqcztvjtcwqrppycvxjgqzmenzahvcqaoefbjxxo',\n",
       " 'xttvahmsiwxokueznpasxkzndygbxchsvswnmgotoxwfikaddi',\n",
       " 'lsckaissonutegiugpaclmvqwznbggxbqawactczzorrxnzyru',\n",
       " 'klpsrajzydjqkyewmgmohmfqjqgixhoqdiltxawguwjnjlbquy',\n",
       " 'jjhzoosucqcswmqgziulvevxvinxtmfoeaxeokxdfpahviziox',\n",
       " 'irgyhhbvkpneabhqcjwjghnmxqafrwmtkahmgicwvssphbtgqb',\n",
       " 'ftopcteczkzatzwihutxjvtcoeobouwxpitsezomhbsoouzxkf',\n",
       " 'wwvhrshdogzuhgzygrmlrxarbzlejznhsgzqmqleahsgwrsdza',\n",
       " 'ofurgtryyzoancheteokaeiuwllkwvjibxjsbjymsrdkdmpawa',\n",
       " 'dgmxtukjsqsjwtaextemedgvgluefzywzubpprepckhcfqgxvk',\n",
       " 'uxkwyjrjbjprofwnxihhlyxdaxphhxosyxajadvvwhlxotqecg',\n",
       " 'qybpafqyvydktraymjrirrpivntrjixzoayiodifejgzvtnsxf',\n",
       " 'xcoihuyeqkrfckaqovvxsattkbguzqmdotaatlvqayvooktfez',\n",
       " 'iyfsukiyeynmpogzcryklqupcsshtzsvdzbtyyudbqlmdigzko',\n",
       " 'cafabwkhfznvscpjuepoqkcfxyptmfbshgnsytohhhaazywoje',\n",
       " 'auukbgjvxzgqobcwuyqhwfvjimqmnuthwqzemfqqpkghckxzsi',\n",
       " 'pjqsofxxnwknmuiefmdwfqwuwuucmjivwijbjbbkhlucykcszj',\n",
       " 'lorxfkdvncaavkiopcfbxcwyrultzrhdwhleaxxtrggeegmwqm',\n",
       " 'ibhbigwkqrsnsyatfovnygnhbfduqsfldjrqnccslgwxlotwrx',\n",
       " 'afmfrqroifprparusnocbrmwipreqnbvpdzmljdrwlbtdjpcoa',\n",
       " 'ytmbibufvldtqhoguuuymvxvjvvcckimzjjqmptogwhurvuhwu',\n",
       " 'vwdyqzmveoabpowindggywnegkcidmpebglalkfotxoyivfvyc',\n",
       " 'xgjynoykecpboqlsgnbjysyfbdnjqdurzvaecexpkwmgjcrdur',\n",
       " 'zmrobsllvzvevgscpfuvpbkzrarstcciwdjpniuzacioowpbzz',\n",
       " 'agcvdcuafmxurcbuiefqpqgmsghsbksqopydvqmcxotiiyypvo',\n",
       " 'ifzgeiwcrukrppitbochdxxrdntvvwswuzkvebdjemytqldjgi',\n",
       " 'pczjbnbzepdsckoulzosyqwjrbiuppwnxonfbzxufwwmwwdein']"
      ]
     },
     "execution_count": 7,
     "metadata": {},
     "output_type": "execute_result"
    }
   ],
   "source": [
    "string_200"
   ]
  },
  {
   "cell_type": "code",
   "execution_count": 8,
   "id": "e82dc597",
   "metadata": {},
   "outputs": [
    {
     "data": {
      "text/plain": [
       "[]"
      ]
     },
     "execution_count": 8,
     "metadata": {},
     "output_type": "execute_result"
    }
   ],
   "source": [
    "list(unique_everseen(duplicates(string_200)))"
   ]
  },
  {
   "cell_type": "markdown",
   "id": "e3a7655c",
   "metadata": {},
   "source": [
    "### 3) Use the textbook implementation of quicksort to sort the data, being sure to capture the amount of time it takes for each list. "
   ]
  },
  {
   "cell_type": "code",
   "execution_count": 9,
   "id": "8482f649",
   "metadata": {},
   "outputs": [],
   "source": [
    "#Quick Sort Algorithm\n",
    "\n",
    "quickSort = []\n",
    "start_time = time.time()\n",
    "out = quick_sort(string_200)\n",
    "end_time = time.time()\n",
    "#print(end_time - start_time)\n",
    "qs_200 = (end_time - start_time)\n",
    "quickSort.append(qs_200)\n",
    "\n",
    "\n",
    "start_time = time.time()\n",
    "out = quick_sort(string_400)\n",
    "end_time = time.time()\n",
    "#print(end_time - start_time)\n",
    "qs_400 = (end_time - start_time)\n",
    "quickSort.append(qs_400)\n",
    "\n",
    "\n",
    "start_time = time.time()\n",
    "out = quick_sort(string_600)\n",
    "end_time = time.time()\n",
    "#print(end_time - start_time)\n",
    "qs_600 = (end_time - start_time)\n",
    "quickSort.append(qs_600)\n",
    "\n",
    "\n",
    "start_time = time.time()\n",
    "out = quick_sort(string_800)\n",
    "end_time = time.time()\n",
    "#print(end_time - start_time)\n",
    "qs_800 = (end_time - start_time)\n",
    "quickSort.append(qs_800)\n",
    "\n",
    "\n",
    "start_time = time.time()\n",
    "out = quick_sort(string_1000)\n",
    "end_time = time.time()\n",
    "#print(end_time - start_time)\n",
    "qs_1000 = (end_time - start_time)\n",
    "quickSort.append(qs_1000)"
   ]
  },
  {
   "cell_type": "code",
   "execution_count": 10,
   "id": "e39043b2",
   "metadata": {},
   "outputs": [
    {
     "data": {
      "text/html": [
       "<div>\n",
       "<style scoped>\n",
       "    .dataframe tbody tr th:only-of-type {\n",
       "        vertical-align: middle;\n",
       "    }\n",
       "\n",
       "    .dataframe tbody tr th {\n",
       "        vertical-align: top;\n",
       "    }\n",
       "\n",
       "    .dataframe thead th {\n",
       "        text-align: right;\n",
       "    }\n",
       "</style>\n",
       "<table border=\"1\" class=\"dataframe\">\n",
       "  <thead>\n",
       "    <tr style=\"text-align: right;\">\n",
       "      <th></th>\n",
       "      <th>Quick Sort</th>\n",
       "    </tr>\n",
       "  </thead>\n",
       "  <tbody>\n",
       "    <tr>\n",
       "      <th>0</th>\n",
       "      <td>0.000313</td>\n",
       "    </tr>\n",
       "    <tr>\n",
       "      <th>1</th>\n",
       "      <td>0.000629</td>\n",
       "    </tr>\n",
       "    <tr>\n",
       "      <th>2</th>\n",
       "      <td>0.000970</td>\n",
       "    </tr>\n",
       "    <tr>\n",
       "      <th>3</th>\n",
       "      <td>0.001242</td>\n",
       "    </tr>\n",
       "    <tr>\n",
       "      <th>4</th>\n",
       "      <td>0.001803</td>\n",
       "    </tr>\n",
       "  </tbody>\n",
       "</table>\n",
       "</div>"
      ],
      "text/plain": [
       "   Quick Sort\n",
       "0    0.000313\n",
       "1    0.000629\n",
       "2    0.000970\n",
       "3    0.001242\n",
       "4    0.001803"
      ]
     },
     "execution_count": 10,
     "metadata": {},
     "output_type": "execute_result"
    }
   ],
   "source": [
    "#create dataframe for quicksort time\n",
    "qs = {'Quick Sort' : quickSort}\n",
    "quicksort_df = pd.DataFrame(data=qs)\n",
    "quicksort_df"
   ]
  },
  {
   "cell_type": "markdown",
   "id": "3100fdd2",
   "metadata": {},
   "source": [
    "### 4) Now use at least two other sorting algorithms on the same data set (e.g. merge sort, bubble sort, insertion sort, etc).  Make sure that you code the sorting algorithm and you do not use a builtin function. By this I mean you may not use np.sort() or sorted(), etc.  You must code the algorithm in order to compare the complexity of each.  Here is a good resource https://www.geeksforgeeks.org/sorting-algorithms/ (Links to an external site.)).  Capture the computation time for each list using each sorting algorithm that you have used.  "
   ]
  },
  {
   "cell_type": "code",
   "execution_count": 11,
   "id": "16e31ddd",
   "metadata": {},
   "outputs": [],
   "source": [
    "#Bubble Sort\n",
    "bubbleSort = []\n",
    "start_time = time.time()\n",
    "out = bubble_sort(string_200)\n",
    "end_time = time.time()\n",
    "#print(end_time - start_time)\n",
    "bs_200 = (end_time - start_time)\n",
    "bubbleSort.append(bs_200)\n",
    "\n",
    "\n",
    "start_time = time.time()\n",
    "out = bubble_sort(string_400)\n",
    "end_time = time.time()\n",
    "#print(end_time - start_time)\n",
    "bs_400 = (end_time - start_time)\n",
    "bubbleSort.append(bs_400)\n",
    "\n",
    "\n",
    "start_time = time.time()\n",
    "out = bubble_sort(string_600)\n",
    "end_time = time.time()\n",
    "#print(end_time - start_time)\n",
    "bs_600 = (end_time - start_time)\n",
    "bubbleSort.append(bs_600)\n",
    "\n",
    "\n",
    "start_time = time.time()\n",
    "out = bubble_sort(string_800)\n",
    "end_time = time.time()\n",
    "#print(end_time - start_time)\n",
    "bs_800 = (end_time - start_time)\n",
    "bubbleSort.append(bs_800)\n",
    "\n",
    "\n",
    "start_time = time.time()\n",
    "out = bubble_sort(string_1000)\n",
    "end_time = time.time()\n",
    "#print(end_time - start_time)\n",
    "bs_1000 = (end_time - start_time)\n",
    "bubbleSort.append(bs_1000)"
   ]
  },
  {
   "cell_type": "code",
   "execution_count": 12,
   "id": "30cf5d0c",
   "metadata": {},
   "outputs": [],
   "source": [
    "insertionSort = []\n",
    "start_time = time.time()\n",
    "out = insertion_sort(string_200)\n",
    "end_time = time.time()\n",
    "#print(end_time - start_time)\n",
    "is_200 = (end_time - start_time)\n",
    "insertionSort.append(is_200)\n",
    "\n",
    "\n",
    "start_time = time.time()\n",
    "out = insertion_sort(string_400)\n",
    "end_time = time.time()\n",
    "#print(end_time - start_time)\n",
    "is_400 = (end_time - start_time)\n",
    "insertionSort.append(is_400)\n",
    "\n",
    "\n",
    "start_time = time.time()\n",
    "out = insertion_sort(string_600)\n",
    "end_time = time.time()\n",
    "#print(end_time - start_time)\n",
    "is_600 = (end_time - start_time)\n",
    "insertionSort.append(is_600)\n",
    "\n",
    "\n",
    "start_time = time.time()\n",
    "out = insertion_sort(string_800)\n",
    "end_time = time.time()\n",
    "#print(end_time - start_time)\n",
    "is_800 = (end_time - start_time)\n",
    "insertionSort.append(is_800)\n",
    "\n",
    "\n",
    "start_time = time.time()\n",
    "out = insertion_sort(string_1000)\n",
    "end_time = time.time()\n",
    "#print(end_time - start_time)\n",
    "is_1000 = (end_time - start_time)\n",
    "insertionSort.append(is_1000)"
   ]
  },
  {
   "cell_type": "markdown",
   "id": "7de2dc48",
   "metadata": {},
   "source": [
    "### 5) Create a table containing each algorithm and the timings for each list.  Provide a graph showing how each algorithm scales with size of list (also compare the algorithms themselves).  Discuss your findings with explanations for what you observe. "
   ]
  },
  {
   "cell_type": "code",
   "execution_count": 13,
   "id": "3432495f",
   "metadata": {},
   "outputs": [
    {
     "data": {
      "text/html": [
       "<div>\n",
       "<style scoped>\n",
       "    .dataframe tbody tr th:only-of-type {\n",
       "        vertical-align: middle;\n",
       "    }\n",
       "\n",
       "    .dataframe tbody tr th {\n",
       "        vertical-align: top;\n",
       "    }\n",
       "\n",
       "    .dataframe thead th {\n",
       "        text-align: right;\n",
       "    }\n",
       "</style>\n",
       "<table border=\"1\" class=\"dataframe\">\n",
       "  <thead>\n",
       "    <tr style=\"text-align: right;\">\n",
       "      <th></th>\n",
       "      <th>List Length</th>\n",
       "      <th>Quick Sort</th>\n",
       "      <th>Bubble Sort</th>\n",
       "      <th>Insertion Sort</th>\n",
       "    </tr>\n",
       "  </thead>\n",
       "  <tbody>\n",
       "    <tr>\n",
       "      <th>0</th>\n",
       "      <td>200</td>\n",
       "      <td>0.000313</td>\n",
       "      <td>0.002542</td>\n",
       "      <td>0.000061</td>\n",
       "    </tr>\n",
       "    <tr>\n",
       "      <th>1</th>\n",
       "      <td>400</td>\n",
       "      <td>0.000629</td>\n",
       "      <td>0.010529</td>\n",
       "      <td>0.000088</td>\n",
       "    </tr>\n",
       "    <tr>\n",
       "      <th>2</th>\n",
       "      <td>600</td>\n",
       "      <td>0.000970</td>\n",
       "      <td>0.025430</td>\n",
       "      <td>0.000121</td>\n",
       "    </tr>\n",
       "    <tr>\n",
       "      <th>3</th>\n",
       "      <td>800</td>\n",
       "      <td>0.001242</td>\n",
       "      <td>0.043311</td>\n",
       "      <td>0.000148</td>\n",
       "    </tr>\n",
       "    <tr>\n",
       "      <th>4</th>\n",
       "      <td>1000</td>\n",
       "      <td>0.001803</td>\n",
       "      <td>0.068493</td>\n",
       "      <td>0.000181</td>\n",
       "    </tr>\n",
       "  </tbody>\n",
       "</table>\n",
       "</div>"
      ],
      "text/plain": [
       "   List Length  Quick Sort  Bubble Sort  Insertion Sort\n",
       "0          200    0.000313     0.002542        0.000061\n",
       "1          400    0.000629     0.010529        0.000088\n",
       "2          600    0.000970     0.025430        0.000121\n",
       "3          800    0.001242     0.043311        0.000148\n",
       "4         1000    0.001803     0.068493        0.000181"
      ]
     },
     "execution_count": 13,
     "metadata": {},
     "output_type": "execute_result"
    }
   ],
   "source": [
    "sort_times = {'List Length': [200, 400, 600, 800, 1000],\n",
    "    'Quick Sort' : quickSort,\n",
    "           'Bubble Sort' : bubbleSort,\n",
    "           #'merge sort': mergesort_times,\n",
    "           'Insertion Sort' : insertionSort}\n",
    "sort_times = pd.DataFrame(data=sort_times)\n",
    "sort_times\n"
   ]
  },
  {
   "cell_type": "code",
   "execution_count": 14,
   "id": "da086a0a",
   "metadata": {},
   "outputs": [
    {
     "data": {
      "text/plain": [
       "Text(0.5, 1.0, 'Search Time for Different Sorting Algorithms')"
      ]
     },
     "execution_count": 14,
     "metadata": {},
     "output_type": "execute_result"
    },
    {
     "data": {
      "image/png": "[encoded data removed]",
      "text/plain": [
       "<Figure size 432x288 with 1 Axes>"
      ]
     },
     "metadata": {
      "needs_background": "light"
     },
     "output_type": "display_data"
    }
   ],
   "source": [
    "#graph results\n",
    "\n",
    "plt.bar(sort_times.index, sort_times['Bubble Sort'], 0.35)\n",
    "plt.bar(sort_times.index, sort_times['Insertion Sort'], 0.35)\n",
    "plt.bar(sort_times.index, sort_times['Quick Sort'], 0.35)\n",
    "plt.legend(('Bubble Sort', 'Insertion Sort', 'Quick Sort'))\n",
    "plt.ylabel('Execution time (ms)')\n",
    "plt.xlabel('List Length')\n",
    "plt.title('Search Time for Different Sorting Algorithms')"
   ]
  },
  {
   "cell_type": "markdown",
   "id": "4d3608f5",
   "metadata": {},
   "source": [
    "# EXECUTIVE SUMMARY"
   ]
  },
  {
   "cell_type": "markdown",
   "id": "6ae37bda",
   "metadata": {},
   "source": [
    "### Introduction"
   ]
  },
  {
   "cell_type": "markdown",
   "id": "f50cf3ee",
   "metadata": {},
   "source": [
    "This report analyzed the speed of the quick sort algorithm by comparing it to the speed of the bubble sort algorithm, and by comparing it to the speed of the insertion sort algorithm. A of set of five random lists were generated composed of the following lengths: n = 200, 400, 600, 800, 1000. The algorithms sorted the values in the lists from smallest to largest to measure sort times for how efficiently they performed, but how capable they are for handling scalability. "
   ]
  },
  {
   "cell_type": "markdown",
   "id": "ce18eb2f",
   "metadata": {},
   "source": [
    "### Quick Sort "
   ]
  },
  {
   "cell_type": "markdown",
   "id": "bc554f81",
   "metadata": {},
   "source": [
    "The quick sort algorithm uses a divide-and-conquer strategy to break down a list or an array into its base case. It uses an element in either object to pivot to determine the values less than and more than the pivot value. As it runs, the alrogithm partitions the object into sub-objects.  "
   ]
  },
  {
   "cell_type": "markdown",
   "id": "dfe1dbcc",
   "metadata": {},
   "source": [
    "### Industry Application"
   ]
  },
  {
   "cell_type": "markdown",
   "id": "55752490",
   "metadata": {},
   "source": [
    "The quicksort algorithm is practical and efficient because of how it is able to help an organization scales its operations. Not only do popular search enginges like Google, Bing, DuckDuckGo, etc. use quicksort to help retrieve data, but companies like Apple, Meta, Amazon, etc. use quicksort to manage their value. The common factor is that regardless if the organization produces, holds, or analyzes large datasets, the quicksort algorithm is frequently used in daily applications to ensure the system remains within optimal parameters for stakeholders.  "
   ]
  },
  {
   "cell_type": "markdown",
   "id": "d9f38e45",
   "metadata": {},
   "source": [
    "### Methodology"
   ]
  },
  {
   "cell_type": "markdown",
   "id": "4e81a531",
   "metadata": {},
   "source": [
    "Five random lists were generated using the generate function. The list values were: n = 200, 400, 600, 800, and 1000. For each list length, the execution time of the quicksort algorithm was appended to a list created to store the values for execution time. The bubble sort algorithm and the insertion sort algorithm were used only for their comparative values and will not be discussed in further detail. "
   ]
  },
  {
   "cell_type": "markdown",
   "id": "5ca3e90d",
   "metadata": {},
   "source": [
    "### Analysis & Results"
   ]
  },
  {
   "cell_type": "markdown",
   "id": "e549e180",
   "metadata": {},
   "source": [
    "The results displayed on table 1 show the execution time for the quick sort algorithm is faster than the execution time for the bubble sort algorithm but slower than the insertion sort algorithm. For a list of n = 200, the quick sort execution speed is 0.000313 milliseconds; the execution speed for the bubble sort algorithm is 0.002542 milliseconds; and the execution speed of the insertion sort algorithm is 0.000061 milliseconds . Multiplying the list length by a factor of 2, n = 400, the quick sort execution speed is 0.000629 milliseconds; the execution speed for bubble sort is 0.010529 milliseconds; and the execution speed for the insertion sort algorithm is \t\t0.000088 milliseconds. The graphic figure for quick sort displays the increasing execution time as list length increases. This represents the increasing number of operations needed to sort through the generated lists of varying lengths. At a list length of n = 1000, the quick sort algorithm is significantly faster than the bubble sort algorithm: the execution time for the quicksort is 0.001803 milliseconds and the execution time for the bubble sort algorithm is 0.068493 milliseconds. The insertion sort algorithm is significantly faster than the execution time for the quicksort: 0.000181 milliseconds."
   ]
  },
  {
   "cell_type": "markdown",
   "id": "a1d3f7de",
   "metadata": {},
   "source": [
    "### Discussion of Big O Notation"
   ]
  },
  {
   "cell_type": "markdown",
   "id": "06b15fea",
   "metadata": {},
   "source": [
    "Big O notation for the quicksort algorithm is O(n log n) or O(n^2). This means if the call stack is O(log n) levels then the algorithm speed is O(n log n). If quicksort is applied to only one level, then the algorithm speed is O(n). In either algorithmic speed, quicksort partions the level as it sorts. "
   ]
  },
  {
   "cell_type": "markdown",
   "id": "9dcecdcf",
   "metadata": {},
   "source": [
    "### Conclusion"
   ]
  },
  {
   "cell_type": "markdown",
   "id": "72323b26",
   "metadata": {},
   "source": [
    "The execution speed of the quicksort algorithm read in Big O notation is given as O(n log n) or O(n^2). This is important given that data storage and resources necessitate a dynamic strategy to remain optimal in performance and management. With quicksort being used daily in numerous platforms and applications, it is a practical implementation for data systems.   "
   ]
  }
 ],
 "metadata": {
  "kernelspec": {
   "display_name": "Python 3 (ipykernel)",
   "language": "python",
   "name": "python3"
  },
  "language_info": {
   "codemirror_mode": {
    "name": "ipython",
    "version": 3
   },
   "file_extension": ".py",
   "mimetype": "text/x-python",
   "name": "python",
   "nbconvert_exporter": "python",
   "pygments_lexer": "ipython3",
   "version": "3.9.7"
  }
 },
 "nbformat": 4,
 "nbformat_minor": 5
}
