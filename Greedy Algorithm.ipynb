{
 "cells": [
  {
   "cell_type": "markdown",
   "id": "306d563e",
   "metadata": {},
   "source": [
    "### 1) Assume you run a small security company that provides physical security services in the area and you recently won a new contract in the area to provide 24x7 security to a small building under construction.  For simplicity we will design the solution for only 24 hours, but if you want to go above and beyond, feel free to write code that handles the 24x7 scenario as well."
   ]
  },
  {
   "cell_type": "markdown",
   "id": "e3ff4ff9",
   "metadata": {},
   "source": [
    "### 2) You have 6 security guards available at the moment who you can assign to this building but your goal is to make more money out of this contract and spend less in wages (hence greedy!)"
   ]
  },
  {
   "cell_type": "code",
   "execution_count": 1,
   "id": "59a229c7",
   "metadata": {},
   "outputs": [],
   "source": [
    "def wage_structure(hours):\n",
    "    if hours > 8:\n",
    "        return  8 * 15 + (hours - 8) * 20 # surplus hours multiplied by overtime wage\n",
    "    else:\n",
    "        return hours * 15 "
   ]
  },
  {
   "cell_type": "markdown",
   "id": "edb657d7",
   "metadata": {},
   "source": [
    "### 3) The cost/wage structure is as follows:\n",
    "\n",
    "- People working less than or equal to 8 hours will be paid $15/hr\n",
    "\n",
    "- Anyone working overtime (>8 hours) will be paid an additional $5, i.e. $20/hr "
   ]
  },
  {
   "cell_type": "code",
   "execution_count": 2,
   "id": "ae53a629",
   "metadata": {},
   "outputs": [],
   "source": [
    "guard_staff = 6 \n",
    "daily = 24\n",
    "\n",
    "pay_list = {}\n",
    "\n",
    "for number in range(1, guard_staff + 1):\n",
    "    shift_times = daily/number\n",
    "    pay_list[number] = wage_structure(shift_times) * number     "
   ]
  },
  {
   "cell_type": "code",
   "execution_count": 3,
   "id": "af1dab2b",
   "metadata": {},
   "outputs": [
    {
     "name": "stdout",
     "output_type": "stream",
     "text": [
      "{1: 440.0, 2: 400.0, 3: 360.0, 4: 360.0, 5: 360.0, 6: 360.0}\n"
     ]
    }
   ],
   "source": [
    "print(pay_list) "
   ]
  },
  {
   "cell_type": "code",
   "execution_count": 4,
   "id": "fc7056db",
   "metadata": {},
   "outputs": [
    {
     "data": {
      "text/plain": [
       "3"
      ]
     },
     "execution_count": 4,
     "metadata": {},
     "output_type": "execute_result"
    }
   ],
   "source": [
    "min(pay_list, key=pay_list.get) "
   ]
  },
  {
   "cell_type": "code",
   "execution_count": 5,
   "id": "b0c14825",
   "metadata": {},
   "outputs": [
    {
     "name": "stdout",
     "output_type": "stream",
     "text": [
      "For a total of 6 guards to staff a 24-hour window. It will cost 360.0.\n"
     ]
    }
   ],
   "source": [
    "print(F\"For a total of {number} guards to staff a 24-hour window. It will cost {wage_structure(shift_times) * number}.\")"
   ]
  },
  {
   "cell_type": "markdown",
   "id": "2cac4689",
   "metadata": {},
   "source": [
    "### 4) Create a greedy algorithm (come up with any algorithm of your own) that finds you the most cost effective solution e.g. Should we appoint 2 security guards for 12 hours each? Or 3 of them for 8 hours each? Or 4 for 6 hours each? Or all 6 for 4 hours each? Or any other combination? "
   ]
  },
  {
   "cell_type": "markdown",
   "id": "32311ab8",
   "metadata": {},
   "source": [
    "### Write the greedy algorithm, run it, and record the solution that your algorithm produces.  Please answer the following questions regarding your solution:\n",
    "\n",
    "- Explain your algorithm in detail.  How is it greedy?\n",
    "- What is the complexity of your solution?\n",
    "- Did the greedy algorithm provide the best solution or could there be an alternative/better solution to your   problem?  Why or why not?\n",
    "- If the scenario had different values for the inputs would your algorithm still be successful?  Eg. more than 24 hours, higher overtime, shorter shifts, or values that don't factor so nicely.  Why or why not?  \n",
    "- What things would change the optimal output?\n",
    "- If you were not constrained to a greedy algorithm, what approaches would you take to solve the problem? "
   ]
  },
  {
   "cell_type": "code",
   "execution_count": 6,
   "id": "80d220ec",
   "metadata": {},
   "outputs": [
    {
     "name": "stdout",
     "output_type": "stream",
     "text": [
      "To maximize profits and minimize cost, the security company should hire a total of 3 guards for three 8-hour shifts during a 24 hour day. It will cost the security company $ 360 in wages.\n"
     ]
    }
   ],
   "source": [
    "# Greedy algorithm\n",
    "work_time = 0\n",
    "day = 24\n",
    "guards = 0\n",
    "wages = 0\n",
    "\n",
    "while day > work_time:\n",
    "    guards += 1\n",
    "    work_time += 8\n",
    "    wages += wage_structure(8)\n",
    "    \n",
    "print(F\"To maximize profits and minimize cost, the security company should hire a total of {guards} guards for three 8-hour shifts during a 24 hour day. It will cost the security company $ {wages} in wages.\")"
   ]
  },
  {
   "cell_type": "markdown",
   "id": "ce7fc238",
   "metadata": {},
   "source": [
    "# Executive Summary"
   ]
  },
  {
   "cell_type": "markdown",
   "id": "f18a6a16",
   "metadata": {},
   "source": [
    "### Introduction"
   ]
  },
  {
   "cell_type": "markdown",
   "id": "8138795d",
   "metadata": {},
   "source": [
    "This report analyzed the greedy algorithm and its implementation for finding the optimal soution in a scheduling problem. A security company has been tasked with providing 24/7 security services to a construction site. "
   ]
  },
  {
   "cell_type": "markdown",
   "id": "b8b00c15",
   "metadata": {},
   "source": [
    "### Greedy Algorithm"
   ]
  },
  {
   "cell_type": "markdown",
   "id": "430f70e1",
   "metadata": {},
   "source": [
    "A greedy algorithm optimizes locally to find the global optimum. It is an approximation algorithm and the criteria for its algorithmic speed and its proximity to the global optimum. The algorithm is a heuristic technique which finds the local optimum at each stage of iteration. "
   ]
  },
  {
   "cell_type": "markdown",
   "id": "53d8e961",
   "metadata": {},
   "source": [
    "### Industry Application"
   ]
  },
  {
   "cell_type": "markdown",
   "id": "991b7fa2",
   "metadata": {},
   "source": [
    "The greedy algorithm is used in scheduling for determining the optimal number of shifts and allocating staff to reduce costs and maximize profits. Additionally, the greedy algorithm can be used in international currency exchanges to find the optimal return of values. In engineering, it can be used in UAV swarms to allocate tasks and reduce computational complexity."
   ]
  },
  {
   "cell_type": "markdown",
   "id": "f80e95c1",
   "metadata": {},
   "source": [
    "### Methodology"
   ]
  },
  {
   "cell_type": "markdown",
   "id": "be7547d1",
   "metadata": {},
   "source": [
    "To determine the optimal choice of staff allocation, a cost/wage structure was created as follows:\n",
    "\n",
    "- people working less than or equal to 8 hours will be paid 15 dollars per hour.\n",
    "\n",
    "- An additional 5 dollars per hour will be paid to anyone working overtime (> 8 hours), at a rate of 20 dollars per hour."
   ]
  },
  {
   "cell_type": "markdown",
   "id": "a04b4d6b",
   "metadata": {},
   "source": [
    "### Analysis & Results"
   ]
  },
  {
   "cell_type": "markdown",
   "id": "d64a932b",
   "metadata": {},
   "source": [
    "With time as a constraint, finding the optimal solution must be done efficiently to reduce the amount of time spent producing the optimal solution. The results display that hiring hiring 1 or 2 guards results in overtime costs.  However, hiring between 3 to 6 guards yields the local minimum of 360 dollars. Since costs are not reduced when hiring 3 to 6 guards, the optimal solution is to hire 3 guards for a total cost of 360 dollars."
   ]
  },
  {
   "cell_type": "markdown",
   "id": "584e9040",
   "metadata": {},
   "source": [
    "### Discussion of Big O Notation"
   ]
  },
  {
   "cell_type": "markdown",
   "id": "5b1ce58a",
   "metadata": {},
   "source": [
    "Big O notation for the greedy algorithm in this instance is O(n). N is the number of guards and once the algorithm executes, the operation is done. "
   ]
  },
  {
   "cell_type": "markdown",
   "id": "56f9e86f",
   "metadata": {},
   "source": [
    "### Conclusion"
   ]
  },
  {
   "cell_type": "markdown",
   "id": "27d41de4",
   "metadata": {},
   "source": [
    "The greedy algorithm is efficient for making the optimal choice with resource constraints. Additionally, it should be considered when a project is under a time constraint. The greedy algorithm has various applications and is a heuristic technique which can be used to find the global optimum. "
   ]
  }
 ],
 "metadata": {
  "kernelspec": {
   "display_name": "Python 3 (ipykernel)",
   "language": "python",
   "name": "python3"
  },
  "language_info": {
   "codemirror_mode": {
    "name": "ipython",
    "version": 3
   },
   "file_extension": ".py",
   "mimetype": "text/x-python",
   "name": "python",
   "nbconvert_exporter": "python",
   "pygments_lexer": "ipython3",
   "version": "3.9.7"
  }
 },
 "nbformat": 4,
 "nbformat_minor": 5
}
