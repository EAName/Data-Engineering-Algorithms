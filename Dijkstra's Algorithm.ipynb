{
 "cells": [
  {
   "cell_type": "code",
   "execution_count": 1,
   "id": "69112a29",
   "metadata": {},
   "outputs": [],
   "source": [
    "# Importing Packages\n",
    "import networkx  as nx \n",
    "# See https://networkx.github.io/ for details\n",
    "import matplotlib.pyplot as plt\n",
    "import numpy as np\n",
    "import pandas as pd\n",
    "import time\n",
    "G = nx.Graph()\n",
    "%matplotlib inline"
   ]
  },
  {
   "cell_type": "markdown",
   "id": "eec24866",
   "metadata": {},
   "source": [
    "### 1) First, use the breadth-first algorithm to find the quickest way to get to L.A from NYC and calculate the time that it will take to get to L.A. from NYC using the breadth first algorithm.  (Even though BFS does not use weighted edges, we will indirectly use them to calculate the time of the route)."
   ]
  },
  {
   "cell_type": "code",
   "execution_count": 2,
   "id": "966dc5c3",
   "metadata": {},
   "outputs": [],
   "source": [
    "# Creating Graph \n",
    "graph = {}\n",
    "\n",
    "# Creating Cities for Graph\n",
    "graph[\"NYC\"] = {}\n",
    "graph[\"DC\"]= {}\n",
    "graph[\"Atlanta\"] = {}\n",
    "graph[\"New Orleans\"] = {}\n",
    "graph[\"Dallas\"] = {}\n",
    "graph[\"Indianapolis\"] = {}\n",
    "graph[\"Kansas City\"] = {}\n",
    "graph[\"Denver\"] = {}\n",
    "graph[\"Salt Lake City\"]= {}\n",
    "graph[\"Pittsburgh\"] = {}\n",
    "graph[\"Cincinatti\"] = {}\n",
    "graph[\"St Louis\"] = {}\n",
    "graph[\"Oklahoma City\"] = {}\n",
    "graph[\"Albuquerque\"] = {}\n",
    "graph[\"Phoenix\"] = {}\n",
    "graph[\"Las Vegas\"] = {}\n",
    "graph[\"San Diego\"] = {}\n",
    "graph[\"Los Angeles\"] = {}\n",
    "\n",
    "\n",
    "\n",
    "#First Route\n",
    "graph[\"NYC\"][\"DC\"] = 1.5\n",
    "graph[\"DC\"][\"Atlanta\"] = 2\n",
    "graph[\"Atlanta\"][\"New Orleans\"] = 1.5\n",
    "graph[\"New Orleans\"][\"Dallas\"] = 1.5\n",
    "graph[\"Dallas\"][\"Albuquerque\"] = 2\n",
    "\n",
    "#Second Route\n",
    "graph[\"NYC\"][\"Indianapolis\"] = 3\n",
    "graph[\"Indianapolis\"][\"Kansas City\"] = 3.25\n",
    "graph[\"Kansas City\"][\"Denver\"] = 2\n",
    "graph[\"Denver\"][\"Salt Lake City\"] = 1.5\n",
    "graph[\"Salt Lake City\"][\"Las Vegas\"] = 1.5\n",
    "\n",
    "#Third Route\n",
    "graph[\"NYC\"][\"Pittsburgh\"] = 1.5\n",
    "graph[\"Pittsburgh\"][\"Cincinatti\"] = 3\n",
    "graph[\"Cincinatti\"][\"St Louis\"] = 3.5\n",
    "graph[\"St Louis\"][\"Oklahoma City\"] = 1.5\n",
    "graph[\"Oklahoma City\"][\"Albuquerque\"] = 5.5\n",
    "\n",
    "#Final Route\n",
    "graph[\"Albuquerque\"][\"Phoenix\"] = 2\n",
    "graph[\"Phoenix\"][\"Las Vegas\"] = 2\n",
    "graph[\"Las Vegas\"][\"San Diego\"] = 2\n",
    "graph[\"San Diego\"][\"Los Angeles\"] = 2\n",
    "graph[\"Phoenix\"][\"San Diego\"] = 3\n",
    "graph[\"Las Vegas\"][\"Los Angeles\"] = 7\n",
    "graph[\"Los Angeles\"] = {}\n",
    "\n",
    "\n",
    "# Creating Costs table\n",
    "infinity = float(\"inf\")\n",
    "costs = {}\n",
    "costs[\"NYC\"] = 0\n",
    "costs[\"DC\"] = infinity\n",
    "costs[\"Atlanta\"] = infinity\n",
    "costs[\"New Orleans\"] = infinity\n",
    "costs[\"Dallas\"] = infinity\n",
    "costs[\"Indianapolis\"] = infinity\n",
    "costs[\"Kansas City\"] = infinity\n",
    "costs[\"Denver\"] = infinity\n",
    "costs[\"Salt Lake City\"] = infinity \n",
    "costs[\"Pittsburgh\"] = infinity\n",
    "costs[\"Cincinatti\"] = infinity\n",
    "costs[\"St Louis\"] = infinity\n",
    "costs[\"Oklahoma City\"] = infinity\n",
    "costs[\"Albuquerque\"] = infinity\n",
    "costs[\"Phoenix\"] = infinity\n",
    "costs[\"Las Vegas\"] = infinity\n",
    "costs[\"San Diego\"] = infinity\n",
    "costs[\"Los Angeles\"] = infinity\n",
    "\n",
    "\n",
    "# Creating Parents table\n",
    "parents = {}\n",
    "parents[\"DC\"] = \"NYC\"\n",
    "parents[\"Atlanta\"] = \"DC\"\n",
    "parents[\"New Orleans\"] = \"Atlanta\"\n",
    "parents[\"Indianapolis\"] = \"New Orleans\"\n",
    "parents[\"Kansas City\"] = \"Indianapolis\"\n",
    "parents[\"Denver\"] = \"Kansas City\"\n",
    "parents[\"Salt Lake City\"] = \"Denver\"\n",
    "parents[\"Pittsburgh\"] = \"Salt Lake City\"\n",
    "parents[\"Cincinatti\"] = \"Pittsburgh\"\n",
    "parents[\"St Louis\"] = \"Cincinatti\"\n",
    "parents[\"Oklahoma City\"] = \"St Louis\"\n",
    "parents[\"Albuquerque\"] = \"Oklahoma City\"\n",
    "parents[\"Phoenix\"] = \"Albuquerque\"\n",
    "parents[\"Las Vegas\"] = \"Phoenix\"\n",
    "parents[\"San Diego\"] = \"Las Vegas\"\n",
    "parents[\"Los Angeles\"] = \"San Diego\"\n",
    "# parents[\"Los Angeles\"] = None"
   ]
  },
  {
   "cell_type": "code",
   "execution_count": 3,
   "id": "583a2a8f",
   "metadata": {},
   "outputs": [],
   "source": [
    "# Trace Path\n",
    "def backtrace(parent, start, end):\n",
    "    path = [end]\n",
    "    while path[-1] != start:\n",
    "        path.append(parent[path[-1]])\n",
    "    path.reverse()\n",
    "    return path\n",
    "        \n",
    "# Breadth-First Search Algorithm\n",
    "def bfs(graph, start, end):\n",
    "    parent = {}\n",
    "    queue = []\n",
    "    queue.append(start)\n",
    "    while queue:\n",
    "        node = queue.pop(0)\n",
    "        if node == end:\n",
    "            return backtrace(parent, start, end)\n",
    "        for adjacent in graph.get(node, []):\n",
    "            if node not in queue :\n",
    "                parents[adjacent] = node # <<<<< record its parent \n",
    "                queue.append(adjacent)"
   ]
  },
  {
   "cell_type": "code",
   "execution_count": 4,
   "id": "ecb5b3a9",
   "metadata": {},
   "outputs": [],
   "source": [
    "# Searching level 1 of network\n",
    "level_1 = []\n",
    "for i in range(100):\n",
    "    start = time.time()\n",
    "    bfs(graph, 'NYC', 'NYC')\n",
    "    end = time.time()\n",
    "    level_1.append((end - start) * 1000)\n",
    "    \n",
    "level1_time = np.mean(level_1)\n",
    "\n",
    "\n",
    "# Searching level 2 of network\n",
    "level_2 = []\n",
    "\n",
    "for i in range(100):\n",
    "    start = time.time()\n",
    "    bfs(graph, 'NYC', 'NYC')\n",
    "    bfs(graph, 'Kansas City', 'Indianapolis')\n",
    "    end = time.time()\n",
    "    level_2.append((end - start) * 1000)\n",
    "    \n",
    "level2_time = np.mean(level_2)\n",
    "\n",
    "# Searching level 3 of network\n",
    "\n",
    "level_3 = []\n",
    "\n",
    "for i in range(100):\n",
    "    start = time.time()\n",
    "    bfs(graph, 'NYC', 'NYC')\n",
    "    bfs(graph, 'Kansas City', 'Indianapolis')\n",
    "    bfs(graph, 'Salt Lake City', 'Pittsburgh')\n",
    "    end = time.time()\n",
    "    level_3.append((end - start) * 1000)\n",
    "    \n",
    "level3_time = np.mean(level_3)\n",
    "\n",
    "\n",
    "# Searching level 4 of network\n",
    "\n",
    "level_4 = []\n",
    "\n",
    "for i in range(100):\n",
    "    start = time.time()\n",
    "    bfs(graph, 'NYC', 'NYC')\n",
    "    bfs(graph, 'Kansas City', 'Indianapolis')\n",
    "    bfs(graph, 'Salt Lake City', 'Pittsburgh')\n",
    "    bfs(graph, 'Albuquerque', 'Oklahoma City')\n",
    "    end = time.time()\n",
    "    level_4.append((end - start) * 1000)\n",
    "    \n",
    "level4_time = np.mean(level_4)\n",
    "\n",
    "# Searching level 5 of network\n",
    "\n",
    "level_5 = []\n",
    "\n",
    "for i in range(100):\n",
    "    start = time.time()\n",
    "    bfs(graph, 'NYC', 'NYC')\n",
    "    bfs(graph, 'Kansas City', 'Indianapolis')\n",
    "    bfs(graph, 'Salt Lake City', 'Pittsburgh')\n",
    "    bfs(graph, 'Albuquerque', 'Oklahoma City')\n",
    "    bfs(graph, 'Las Vegas', 'Phoenix')\n",
    "    end = time.time()\n",
    "    level_5.append((end - start) * 1000)\n",
    "    \n",
    "level5_time = np.mean(level_5)\n",
    "\n",
    "\n",
    "level_6 = []\n",
    "\n",
    "for i in range(100):\n",
    "    start = time.time()\n",
    "    bfs(graph, 'NYC', 'NYC')\n",
    "    bfs(graph, 'Kansas City', 'Indianapolis')\n",
    "    bfs(graph, 'Salt Lake City', 'Pittsburgh')\n",
    "    bfs(graph, 'Albuquerque', 'Oklahoma City')\n",
    "    bfs(graph, 'Las Vegas', 'Phoenix')\n",
    "    bfs(graph, 'Los Angeles', 'San Diego')\n",
    "    end = time.time()\n",
    "    level_6.append((end - start) * 1000)\n",
    "    \n",
    "level6_time = np.mean(level_6)"
   ]
  },
  {
   "cell_type": "markdown",
   "id": "3123cce1",
   "metadata": {},
   "source": [
    "### 2) Print the route e.g. NYC -> DC -> ATL etc -> L.A."
   ]
  },
  {
   "cell_type": "code",
   "execution_count": 5,
   "id": "2301e050",
   "metadata": {},
   "outputs": [
    {
     "name": "stdout",
     "output_type": "stream",
     "text": [
      "['NYC', 'DC', 'Atlanta', 'New Orleans', 'Indianapolis', 'Kansas City', 'Denver', 'Salt Lake City', 'Pittsburgh', 'Cincinatti', 'St Louis', 'Oklahoma City', 'Albuquerque', 'Phoenix', 'Las Vegas', 'San Diego', 'Los Angeles']\n",
      "Breadth-First Search Execution Time: 0.036373138427734375\n"
     ]
    }
   ],
   "source": [
    "# Route\n",
    "print (backtrace(parents, 'NYC', 'Los Angeles'))\n",
    "\n",
    "bfs_search_agg = level1_time + level2_time + level3_time + level4_time + level5_time + level6_time\n",
    "print('Breadth-First Search Execution Time:', bfs_search_agg)"
   ]
  },
  {
   "cell_type": "markdown",
   "id": "153fd8b3",
   "metadata": {},
   "source": [
    "### 3) Next, use Dijkstra's algorithm to find the most optimal route to get to L.A from NYC, capture the time that it will take to get to L.A (use the weights in the algorithm assigned to the routes)."
   ]
  },
  {
   "cell_type": "code",
   "execution_count": 6,
   "id": "e0c2a63d",
   "metadata": {},
   "outputs": [
    {
     "name": "stdout",
     "output_type": "stream",
     "text": [
      "Dijkstra's Flight Time:  {'NYC': 0, 'DC': 1.5, 'Atlanta': 3.5, 'New Orleans': 5.0, 'Dallas': 6.5, 'Indianapolis': 3, 'Kansas City': 6.25, 'Denver': 8.25, 'Salt Lake City': 9.75, 'Pittsburgh': 1.5, 'Cincinatti': 4.5, 'St Louis': 8.0, 'Oklahoma City': 9.5, 'Albuquerque': 8.5, 'Phoenix': 10.5, 'Las Vegas': 11.25, 'San Diego': 13.25, 'Los Angeles': 15.25}\n"
     ]
    }
   ],
   "source": [
    "# Dijkstra Algorithm \n",
    "\n",
    "processed = []\n",
    "\n",
    "def find_lowest_cost_node(costs):\n",
    "    lowest_cost = float(\"inf\")\n",
    "    lowest_cost_node = None\n",
    "    # Go through each node.\n",
    "    for node in costs:\n",
    "        cost = costs[node]\n",
    "        # If it's the lowest cost so far and hasn't been processed yet...\n",
    "        if cost < lowest_cost and node not in processed:\n",
    "            # ... set it as the new lowest-cost node.\n",
    "            lowest_cost = cost\n",
    "            lowest_cost_node = node\n",
    "    return lowest_cost_node\n",
    "\n",
    "# Find the lowest-cost node that you haven't processed yet.\n",
    "node = find_lowest_cost_node(costs)\n",
    "# If you've processed all the nodes, this while loop is done.\n",
    "while node is not None:\n",
    "    cost = costs[node]\n",
    "    # Go through all the neighbors of this node.\n",
    "    neighbors = graph[node]\n",
    "    for n in neighbors.keys():\n",
    "        new_cost = cost + neighbors[n]\n",
    "        # If it's cheaper to get to this neighbor by going through this node...\n",
    "        if costs[n] > new_cost:\n",
    "            # ... update the cost for this node.\n",
    "            costs[n] = new_cost\n",
    "            # This node becomes the new parent for this neighbor.\n",
    "            parents[n] = node\n",
    "    # Mark the node as processed.\n",
    "    processed.append(node)\n",
    "    # Find the next node to process, and loop.\n",
    "    node = find_lowest_cost_node(costs)\n",
    "\n",
    "print('Dijkstra\\'s Flight Time: ', costs)"
   ]
  },
  {
   "cell_type": "markdown",
   "id": "9ee41e40",
   "metadata": {},
   "source": [
    "### 4) Print the route e.g. NYC -> DC -> ATL etc -> L.A."
   ]
  },
  {
   "cell_type": "code",
   "execution_count": 7,
   "id": "033aa0e0",
   "metadata": {},
   "outputs": [
    {
     "name": "stdout",
     "output_type": "stream",
     "text": [
      "NYC ---> Indianapolis ---> Kansas City ---> Denver ---> Salt Lake City ---> Las Vegas ---> San Diego ---> Los Angeles\n",
      "Dijkstra's Execution Time:  0.003204345703125\n"
     ]
    }
   ],
   "source": [
    "## Build a trade path backwards\n",
    "current_node, start_node = 'Los Angeles', 'NYC'\n",
    "\n",
    "trade_path = [current_node]\n",
    "\n",
    "while current_node != start_node:\n",
    "    last_loc = parents[current_node]\n",
    "    current_node = last_loc\n",
    "    trade_path.append(last_loc)\n",
    "\n",
    "trade_path = trade_path[::-1]\n",
    "\n",
    "print(' ---> '.join(trade_path))\n",
    "\n",
    "\n",
    "Dijkstra_algorithm = []\n",
    "\n",
    "for i in range(100):\n",
    "    start = time.time()\n",
    "    find_lowest_cost_node(costs)\n",
    "    end = time.time()\n",
    "    Dijkstra_algorithm.append((end - start) * 1000)\n",
    "    \n",
    "Dijkstra_algorithm_time = np.mean(Dijkstra_algorithm)\n",
    "    \n",
    "print('Dijkstra\\'s Execution Time: ', Dijkstra_algorithm_time) \n"
   ]
  },
  {
   "cell_type": "markdown",
   "id": "bc4cf347",
   "metadata": {},
   "source": [
    "### 5) Compare time of Breadth-first algorithm with Dijkstra's algorithm in terms of trip time, stops, computation complexity.  Discuss the reason for differences in methods."
   ]
  },
  {
   "cell_type": "code",
   "execution_count": 8,
   "id": "f0bd62b6",
   "metadata": {},
   "outputs": [
    {
     "data": {
      "text/html": [
       "<div>\n",
       "<style scoped>\n",
       "    .dataframe tbody tr th:only-of-type {\n",
       "        vertical-align: middle;\n",
       "    }\n",
       "\n",
       "    .dataframe tbody tr th {\n",
       "        vertical-align: top;\n",
       "    }\n",
       "\n",
       "    .dataframe thead th {\n",
       "        text-align: right;\n",
       "    }\n",
       "</style>\n",
       "<table border=\"1\" class=\"dataframe\">\n",
       "  <thead>\n",
       "    <tr style=\"text-align: right;\">\n",
       "      <th></th>\n",
       "      <th>City</th>\n",
       "      <th>Breadth-First Search</th>\n",
       "    </tr>\n",
       "  </thead>\n",
       "  <tbody>\n",
       "    <tr>\n",
       "      <th>0</th>\n",
       "      <td>NYC</td>\n",
       "      <td>0.036373</td>\n",
       "    </tr>\n",
       "    <tr>\n",
       "      <th>1</th>\n",
       "      <td>Kansas City</td>\n",
       "      <td>0.036373</td>\n",
       "    </tr>\n",
       "    <tr>\n",
       "      <th>2</th>\n",
       "      <td>Denver</td>\n",
       "      <td>0.036373</td>\n",
       "    </tr>\n",
       "    <tr>\n",
       "      <th>3</th>\n",
       "      <td>Salt Lake City</td>\n",
       "      <td>0.036373</td>\n",
       "    </tr>\n",
       "    <tr>\n",
       "      <th>4</th>\n",
       "      <td>Las Vegas</td>\n",
       "      <td>0.036373</td>\n",
       "    </tr>\n",
       "    <tr>\n",
       "      <th>5</th>\n",
       "      <td>San Diego</td>\n",
       "      <td>0.036373</td>\n",
       "    </tr>\n",
       "    <tr>\n",
       "      <th>6</th>\n",
       "      <td>Los Angeles</td>\n",
       "      <td>0.036373</td>\n",
       "    </tr>\n",
       "  </tbody>\n",
       "</table>\n",
       "</div>"
      ],
      "text/plain": [
       "             City  Breadth-First Search\n",
       "0             NYC              0.036373\n",
       "1     Kansas City              0.036373\n",
       "2          Denver              0.036373\n",
       "3  Salt Lake City              0.036373\n",
       "4       Las Vegas              0.036373\n",
       "5       San Diego              0.036373\n",
       "6     Los Angeles              0.036373"
      ]
     },
     "execution_count": 8,
     "metadata": {},
     "output_type": "execute_result"
    }
   ],
   "source": [
    "cities = ['NYC', 'Kansas City', 'Denver', 'Salt Lake City', 'Las Vegas', 'San Diego', 'Los Angeles']\n",
    "travel_times = {'City':cities,\n",
    "    'Breadth-First Search' : bfs_search_agg,\n",
    "           }\n",
    "travel_times = pd.DataFrame(data=travel_times)\n",
    "travel_times"
   ]
  },
  {
   "cell_type": "code",
   "execution_count": 9,
   "id": "04047172",
   "metadata": {},
   "outputs": [
    {
     "data": {
      "text/html": [
       "<div>\n",
       "<style scoped>\n",
       "    .dataframe tbody tr th:only-of-type {\n",
       "        vertical-align: middle;\n",
       "    }\n",
       "\n",
       "    .dataframe tbody tr th {\n",
       "        vertical-align: top;\n",
       "    }\n",
       "\n",
       "    .dataframe thead th {\n",
       "        text-align: right;\n",
       "    }\n",
       "</style>\n",
       "<table border=\"1\" class=\"dataframe\">\n",
       "  <thead>\n",
       "    <tr style=\"text-align: right;\">\n",
       "      <th></th>\n",
       "      <th>City</th>\n",
       "      <th>Dijkstra's</th>\n",
       "    </tr>\n",
       "  </thead>\n",
       "  <tbody>\n",
       "    <tr>\n",
       "      <th>0</th>\n",
       "      <td>NYC</td>\n",
       "      <td>0.003204</td>\n",
       "    </tr>\n",
       "    <tr>\n",
       "      <th>1</th>\n",
       "      <td>Kansas City</td>\n",
       "      <td>0.003204</td>\n",
       "    </tr>\n",
       "    <tr>\n",
       "      <th>2</th>\n",
       "      <td>Denver</td>\n",
       "      <td>0.003204</td>\n",
       "    </tr>\n",
       "    <tr>\n",
       "      <th>3</th>\n",
       "      <td>Salt Lake City</td>\n",
       "      <td>0.003204</td>\n",
       "    </tr>\n",
       "    <tr>\n",
       "      <th>4</th>\n",
       "      <td>Las Vegas</td>\n",
       "      <td>0.003204</td>\n",
       "    </tr>\n",
       "    <tr>\n",
       "      <th>5</th>\n",
       "      <td>San Diego</td>\n",
       "      <td>0.003204</td>\n",
       "    </tr>\n",
       "    <tr>\n",
       "      <th>6</th>\n",
       "      <td>Los Angeles</td>\n",
       "      <td>0.003204</td>\n",
       "    </tr>\n",
       "  </tbody>\n",
       "</table>\n",
       "</div>"
      ],
      "text/plain": [
       "             City  Dijkstra's\n",
       "0             NYC    0.003204\n",
       "1     Kansas City    0.003204\n",
       "2          Denver    0.003204\n",
       "3  Salt Lake City    0.003204\n",
       "4       Las Vegas    0.003204\n",
       "5       San Diego    0.003204\n",
       "6     Los Angeles    0.003204"
      ]
     },
     "execution_count": 9,
     "metadata": {},
     "output_type": "execute_result"
    }
   ],
   "source": [
    "travel_times = {'City':cities,\n",
    "           'Dijkstra\\'s' : Dijkstra_algorithm_time,\n",
    "           }\n",
    "travel_times = pd.DataFrame(data=travel_times)\n",
    "travel_times\n"
   ]
  },
  {
   "cell_type": "markdown",
   "id": "58cd39b8",
   "metadata": {},
   "source": [
    "### 6) Use Python (matplotlib or Seaborn) or JavaScript (D3) visualization tools to illustrate algorithm performance."
   ]
  },
  {
   "cell_type": "code",
   "execution_count": 10,
   "id": "75848d36",
   "metadata": {},
   "outputs": [
    {
     "data": {
      "text/plain": [
       "Text(0.5, 1.0, \"Execution-Time Values of Breadth-First Search Algorithm & Dijkstra'sAlgorithm\")"
      ]
     },
     "execution_count": 10,
     "metadata": {},
     "output_type": "execute_result"
    },
    {
     "data": {
      "image/png": "[encoded data removed]",
      "text/plain": [
       "<Figure size 432x288 with 1 Axes>"
      ]
     },
     "metadata": {
      "needs_background": "light"
     },
     "output_type": "display_data"
    }
   ],
   "source": [
    "plt.bar([1,2], [bfs_search_agg, Dijkstra_algorithm_time], width=0.5, \n",
    "        tick_label=['Breadth-First Search', 'Dijkstra\\'s'])\n",
    "plt.ylabel('Time (hours)')\n",
    "plt.title('Execution-Time Values of Breadth-First Search Algorithm & Dijkstra\\'s' 'Algorithm')"
   ]
  },
  {
   "cell_type": "markdown",
   "id": "9905152e",
   "metadata": {},
   "source": [
    "# EXECUTIVE SUMMARY"
   ]
  },
  {
   "cell_type": "markdown",
   "id": "ef6f9d98",
   "metadata": {},
   "source": [
    "### Introduction"
   ]
  },
  {
   "cell_type": "markdown",
   "id": "5b77160b",
   "metadata": {},
   "source": [
    "This report analyzed the speed of Dijkstra's algorithm by comparing it to the speed of the Breadth-First algorithm by executing a search on a network composed of 18 nodes representing U.S cities. Those cities are as follows:\n",
    "\n",
    "NYC, DC, Atlanta, New Orleans, Dallas, Indianapolis, Kansas City, Denver, Salt Lake City, Pittsburgh, Cincinatti, St Louis, Oklahoma City, Albuquerque, Las Vegas, San Diego, Los Angeles\n",
    "\n",
    "\n"
   ]
  },
  {
   "cell_type": "markdown",
   "id": "3efa5566",
   "metadata": {},
   "source": [
    "### Dijkstra's Algorithm"
   ]
  },
  {
   "cell_type": "markdown",
   "id": "46ba7d81",
   "metadata": {},
   "source": [
    "Dijkstra's algorithm allows for the shortest distance between two objects to be computed. The algorithm works by searching a graph which represents a network. The network models a set of connections. This is stated as the network is composed of objects which are nodes, and of connections which are vertices. Dijkstra's algorithm searches the network by examining the network's nodes and weighted vertices and calculates the weight of the path. The search is a function of two parameters. Is there a path from node A to node B? What is the shortest distance between node A and node B? Dijkstra's algorithm defines shortest distance in terms of weighted values. In this report, the weighted values were travel time."
   ]
  },
  {
   "cell_type": "markdown",
   "id": "02ab5ca1",
   "metadata": {},
   "source": [
    "### Industry Application"
   ]
  },
  {
   "cell_type": "markdown",
   "id": "0ea64f26",
   "metadata": {},
   "source": [
    "Dijkstra's algorithm is a commonly implemented solution in various applications. It can be used to find the shortest route during a trip, for instance, in GPS technology. These are the options given when searching for the quickest path during a trip. The argument within a defined function would provide the parameters for determining a vertice's value within a network. In supply-chains, it can be used to determine the cost-value of a path.  "
   ]
  },
  {
   "cell_type": "markdown",
   "id": "2f8c1800",
   "metadata": {},
   "source": [
    "### Methodology"
   ]
  },
  {
   "cell_type": "markdown",
   "id": "d949490e",
   "metadata": {},
   "source": [
    "A network was created and composed of 18 U.S. cities. For the Breadth-First Search algorithm, the execution time was appended to six lists to store the values for performance. For Dijkstra's algorithm, the execution time was appended to a list to store the value for performance. The Breadth-First Search algorithm defines the shortest path from node A to node B without factoring in the weight of a vertice while Dijkstra's algorithm defines the shortest path from node A to node B with the weighted vertices factored into the output. "
   ]
  },
  {
   "cell_type": "markdown",
   "id": "4e0b8514",
   "metadata": {},
   "source": [
    "### Analysis & Results"
   ]
  },
  {
   "cell_type": "markdown",
   "id": "0613a682",
   "metadata": {},
   "source": [
    "The results displayed on table 1 show the execution time for the Breadth-first Search algorithm to be 0.036373 milliseconds when searching for the optimal path from New York City to Los Angeles. The results displayed on table 2 show the execution time for Dijkstra's algorithm to be 0.003204 milliseconds when searching for the optimal path from New York City to Los Angeles. "
   ]
  },
  {
   "cell_type": "markdown",
   "id": "ec8b12b4",
   "metadata": {},
   "source": [
    "### Discussion of Big O Notation"
   ]
  },
  {
   "cell_type": "markdown",
   "id": "c46a5682",
   "metadata": {},
   "source": [
    "Big O notation for Dijkstra's algorithm is O(V^2), where V is equal to the number of vertices and V^2 is equal to the weight of the vertices. Since the algorithm executes a brute-force search of the entire network, the notation is O(Vertice^2). "
   ]
  },
  {
   "cell_type": "markdown",
   "id": "fc0abf35",
   "metadata": {},
   "source": [
    "### Conclusion"
   ]
  },
  {
   "cell_type": "markdown",
   "id": "726015d5",
   "metadata": {},
   "source": [
    "The execution speed of Dijkstra's algorithm in Big O notation is given as O(V^2). This makes it great for searching vertices and their relationships within a network composed of a few nodes or billions of nodes. Consideration should be given to the graph and its size. Different constraint variables can be used to modify the algorithm to produce an optimal result. "
   ]
  }
 ],
 "metadata": {
  "kernelspec": {
   "display_name": "Python 3 (ipykernel)",
   "language": "python",
   "name": "python3"
  },
  "language_info": {
   "codemirror_mode": {
    "name": "ipython",
    "version": 3
   },
   "file_extension": ".py",
   "mimetype": "text/x-python",
   "name": "python",
   "nbconvert_exporter": "python",
   "pygments_lexer": "ipython3",
   "version": "3.9.7"
  }
 },
 "nbformat": 4,
 "nbformat_minor": 5
}
